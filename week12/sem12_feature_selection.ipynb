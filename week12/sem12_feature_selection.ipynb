{
 "cells": [
  {
   "cell_type": "markdown",
   "metadata": {},
   "source": [
    "# Feature Selection"
   ]
  },
  {
   "cell_type": "markdown",
   "metadata": {},
   "source": [
    "Один из важных этапов обучения модели - отбор признаков. Иногда их может оказаться много - гораздо больше, чем нужно для эффективной работы моделей. На прошлых занятиях мы уже познакомились с методом главных компонент, PCA, и говорили о проклятии размерности.\n",
    "\n",
    "Мы знаем многое о том, как отбирать признаки. В этой тетрадке структурируем наши знания."
   ]
  },
  {
   "cell_type": "code",
   "execution_count": 1,
   "metadata": {},
   "outputs": [],
   "source": [
    "import numpy as np\n",
    "import pandas as pd\n",
    "import matplotlib.pyplot as plt\n",
    "import seaborn as sns\n",
    "import warnings\n",
    "warnings.filterwarnings(\"ignore\")\n"
   ]
  },
  {
   "cell_type": "markdown",
   "metadata": {},
   "source": [
    "## 0. Data\n",
    "\n",
    "Source: https://www.kaggle.com/mlg-ulb/creditcardfraud"
   ]
  },
  {
   "cell_type": "markdown",
   "metadata": {},
   "source": [
    "The dataset contains transactions made by credit cards in September 2013 by European cardholders.\n",
    "This dataset presents transactions that occurred in two days, where we have 492 frauds out of 284,807 transactions. The dataset is highly unbalanced, the positive class (frauds) account for 0.172% of all transactions.\n",
    "\n",
    "It contains only numerical input variables which are the result of a PCA transformation. Unfortunately, due to confidentiality issues, we cannot provide the original features and more background information about the data. Features V1, V2, … V28 are the principal components obtained with PCA, the only features which have not been transformed with PCA are 'Time' and 'Amount'. Feature 'Time' contains the seconds elapsed between each transaction and the first transaction in the dataset. The feature 'Amount' is the transaction Amount, this feature can be used for example-dependant cost-sensitive learning. Feature 'Class' is the response variable and it takes value 1 in case of fraud and 0 otherwise.\n",
    "\n",
    "Given the class imbalance ratio, we recommend measuring the accuracy using the Area Under the Precision-Recall Curve (AUPRC). Confusion matrix accuracy is not meaningful for unbalanced classification."
   ]
  },
  {
   "cell_type": "code",
   "execution_count": 2,
   "metadata": {
    "scrolled": true
   },
   "outputs": [],
   "source": [
    "data = pd.read_csv(\"creditcard.csv\")"
   ]
  },
  {
   "cell_type": "code",
   "execution_count": 3,
   "metadata": {},
   "outputs": [
    {
     "data": {
      "text/html": [
       "<div>\n",
       "<style scoped>\n",
       "    .dataframe tbody tr th:only-of-type {\n",
       "        vertical-align: middle;\n",
       "    }\n",
       "\n",
       "    .dataframe tbody tr th {\n",
       "        vertical-align: top;\n",
       "    }\n",
       "\n",
       "    .dataframe thead th {\n",
       "        text-align: right;\n",
       "    }\n",
       "</style>\n",
       "<table border=\"1\" class=\"dataframe\">\n",
       "  <thead>\n",
       "    <tr style=\"text-align: right;\">\n",
       "      <th></th>\n",
       "      <th>Time</th>\n",
       "      <th>V1</th>\n",
       "      <th>V2</th>\n",
       "      <th>V3</th>\n",
       "      <th>V4</th>\n",
       "      <th>V5</th>\n",
       "      <th>V6</th>\n",
       "      <th>V7</th>\n",
       "      <th>V8</th>\n",
       "      <th>V9</th>\n",
       "      <th>...</th>\n",
       "      <th>V21</th>\n",
       "      <th>V22</th>\n",
       "      <th>V23</th>\n",
       "      <th>V24</th>\n",
       "      <th>V25</th>\n",
       "      <th>V26</th>\n",
       "      <th>V27</th>\n",
       "      <th>V28</th>\n",
       "      <th>Amount</th>\n",
       "      <th>Class</th>\n",
       "    </tr>\n",
       "  </thead>\n",
       "  <tbody>\n",
       "    <tr>\n",
       "      <th>11258</th>\n",
       "      <td>19546.0</td>\n",
       "      <td>-0.454749</td>\n",
       "      <td>-4.054983</td>\n",
       "      <td>-0.273254</td>\n",
       "      <td>-0.399568</td>\n",
       "      <td>-2.590132</td>\n",
       "      <td>-0.393092</td>\n",
       "      <td>0.138466</td>\n",
       "      <td>-0.391686</td>\n",
       "      <td>-0.873562</td>\n",
       "      <td>...</td>\n",
       "      <td>0.054097</td>\n",
       "      <td>-1.563757</td>\n",
       "      <td>-0.628145</td>\n",
       "      <td>0.457243</td>\n",
       "      <td>-0.338810</td>\n",
       "      <td>-0.653193</td>\n",
       "      <td>-0.184372</td>\n",
       "      <td>0.185015</td>\n",
       "      <td>1002.00</td>\n",
       "      <td>0</td>\n",
       "    </tr>\n",
       "    <tr>\n",
       "      <th>78321</th>\n",
       "      <td>57475.0</td>\n",
       "      <td>-6.423197</td>\n",
       "      <td>1.072629</td>\n",
       "      <td>-3.820238</td>\n",
       "      <td>-0.269845</td>\n",
       "      <td>-4.125205</td>\n",
       "      <td>-0.690805</td>\n",
       "      <td>-0.196968</td>\n",
       "      <td>2.840871</td>\n",
       "      <td>-0.307457</td>\n",
       "      <td>...</td>\n",
       "      <td>0.011082</td>\n",
       "      <td>0.109586</td>\n",
       "      <td>-0.041425</td>\n",
       "      <td>0.576822</td>\n",
       "      <td>-0.291755</td>\n",
       "      <td>0.837947</td>\n",
       "      <td>-0.077805</td>\n",
       "      <td>-0.788987</td>\n",
       "      <td>255.30</td>\n",
       "      <td>0</td>\n",
       "    </tr>\n",
       "    <tr>\n",
       "      <th>226814</th>\n",
       "      <td>144808.0</td>\n",
       "      <td>-2.405207</td>\n",
       "      <td>2.943823</td>\n",
       "      <td>-7.616654</td>\n",
       "      <td>3.533374</td>\n",
       "      <td>-5.417494</td>\n",
       "      <td>-0.112632</td>\n",
       "      <td>-1.329372</td>\n",
       "      <td>1.709417</td>\n",
       "      <td>-2.322716</td>\n",
       "      <td>...</td>\n",
       "      <td>0.652683</td>\n",
       "      <td>0.414132</td>\n",
       "      <td>0.023869</td>\n",
       "      <td>-0.260616</td>\n",
       "      <td>0.405316</td>\n",
       "      <td>0.029107</td>\n",
       "      <td>0.519807</td>\n",
       "      <td>-0.469537</td>\n",
       "      <td>667.55</td>\n",
       "      <td>1</td>\n",
       "    </tr>\n",
       "    <tr>\n",
       "      <th>276476</th>\n",
       "      <td>167121.0</td>\n",
       "      <td>-0.454736</td>\n",
       "      <td>0.189683</td>\n",
       "      <td>0.839674</td>\n",
       "      <td>-0.810172</td>\n",
       "      <td>0.458127</td>\n",
       "      <td>0.106038</td>\n",
       "      <td>0.427228</td>\n",
       "      <td>0.195571</td>\n",
       "      <td>-1.232442</td>\n",
       "      <td>...</td>\n",
       "      <td>-0.136466</td>\n",
       "      <td>0.090678</td>\n",
       "      <td>-0.255906</td>\n",
       "      <td>0.628284</td>\n",
       "      <td>0.175469</td>\n",
       "      <td>-0.617653</td>\n",
       "      <td>0.147898</td>\n",
       "      <td>0.142017</td>\n",
       "      <td>9.94</td>\n",
       "      <td>0</td>\n",
       "    </tr>\n",
       "    <tr>\n",
       "      <th>174521</th>\n",
       "      <td>121948.0</td>\n",
       "      <td>0.014204</td>\n",
       "      <td>0.516012</td>\n",
       "      <td>0.248349</td>\n",
       "      <td>-0.307436</td>\n",
       "      <td>0.180279</td>\n",
       "      <td>1.025058</td>\n",
       "      <td>-0.806851</td>\n",
       "      <td>-1.255250</td>\n",
       "      <td>0.843365</td>\n",
       "      <td>...</td>\n",
       "      <td>1.673448</td>\n",
       "      <td>0.206028</td>\n",
       "      <td>-0.294641</td>\n",
       "      <td>0.199466</td>\n",
       "      <td>0.902569</td>\n",
       "      <td>0.829324</td>\n",
       "      <td>0.220143</td>\n",
       "      <td>0.262698</td>\n",
       "      <td>7.50</td>\n",
       "      <td>0</td>\n",
       "    </tr>\n",
       "  </tbody>\n",
       "</table>\n",
       "<p>5 rows × 31 columns</p>\n",
       "</div>"
      ],
      "text/plain": [
       "            Time        V1        V2        V3        V4        V5        V6  \\\n",
       "11258    19546.0 -0.454749 -4.054983 -0.273254 -0.399568 -2.590132 -0.393092   \n",
       "78321    57475.0 -6.423197  1.072629 -3.820238 -0.269845 -4.125205 -0.690805   \n",
       "226814  144808.0 -2.405207  2.943823 -7.616654  3.533374 -5.417494 -0.112632   \n",
       "276476  167121.0 -0.454736  0.189683  0.839674 -0.810172  0.458127  0.106038   \n",
       "174521  121948.0  0.014204  0.516012  0.248349 -0.307436  0.180279  1.025058   \n",
       "\n",
       "              V7        V8        V9  ...       V21       V22       V23  \\\n",
       "11258   0.138466 -0.391686 -0.873562  ...  0.054097 -1.563757 -0.628145   \n",
       "78321  -0.196968  2.840871 -0.307457  ...  0.011082  0.109586 -0.041425   \n",
       "226814 -1.329372  1.709417 -2.322716  ...  0.652683  0.414132  0.023869   \n",
       "276476  0.427228  0.195571 -1.232442  ... -0.136466  0.090678 -0.255906   \n",
       "174521 -0.806851 -1.255250  0.843365  ...  1.673448  0.206028 -0.294641   \n",
       "\n",
       "             V24       V25       V26       V27       V28   Amount  Class  \n",
       "11258   0.457243 -0.338810 -0.653193 -0.184372  0.185015  1002.00      0  \n",
       "78321   0.576822 -0.291755  0.837947 -0.077805 -0.788987   255.30      0  \n",
       "226814 -0.260616  0.405316  0.029107  0.519807 -0.469537   667.55      1  \n",
       "276476  0.628284  0.175469 -0.617653  0.147898  0.142017     9.94      0  \n",
       "174521  0.199466  0.902569  0.829324  0.220143  0.262698     7.50      0  \n",
       "\n",
       "[5 rows x 31 columns]"
      ]
     },
     "execution_count": 3,
     "metadata": {},
     "output_type": "execute_result"
    }
   ],
   "source": [
    "data.head()"
   ]
  },
  {
   "cell_type": "markdown",
   "metadata": {},
   "source": [
    "**Задание** Давайте проверим, сколько \"фрода\" в этой выборке?"
   ]
  },
  {
   "cell_type": "code",
   "execution_count": null,
   "metadata": {},
   "outputs": [],
   "source": []
  },
  {
   "cell_type": "markdown",
   "metadata": {},
   "source": [
    "## 1. Поиск константных признаков"
   ]
  },
  {
   "cell_type": "markdown",
   "metadata": {},
   "source": [
    "$$ R_j = \\frac{1}{l}\\sum \\limits _{i=1}^{l}{(x_{ij} - \\bar{x_j})^2}$$\n",
    "- Чем больше $R_j$, тем информативнее признак\n",
    "- Никак не учитываются ответы\n",
    "- Подходит для фильтрации константных и близких к ним признаков"
   ]
  },
  {
   "cell_type": "markdown",
   "metadata": {},
   "source": [
    "**Задание** Посчитайте дисперсию признаков"
   ]
  },
  {
   "cell_type": "code",
   "execution_count": 21,
   "metadata": {},
   "outputs": [],
   "source": []
  },
  {
   "cell_type": "code",
   "execution_count": null,
   "metadata": {},
   "outputs": [],
   "source": []
  },
  {
   "cell_type": "markdown",
   "metadata": {},
   "source": [
    "## 2. Поиск коррелирующих признаков"
   ]
  },
  {
   "cell_type": "markdown",
   "metadata": {},
   "source": [
    "\n",
    "$$ R_j = \\frac{\\sum \\limits _{i=1}^{l}{(x_{ij} - \\bar{x_j})(y_i - \\bar{y})}}{\\sqrt{\\sum \\limits _{i=1}^{l}{(x_{ij} - \\bar{x_j})^2} \\sum \\limits _{i=1}^{l}{(y_i - \\bar{y})^2} }}$$\n",
    "- Чем больше $|R_j|$, тем информативнее признак\n",
    "- Учитывает только линейную связь"
   ]
  },
  {
   "cell_type": "markdown",
   "metadata": {},
   "source": [
    "**Задание**: составьте матрицу корреляций и визуализируйте ее. \n",
    "Проанализируйте, есть ли необходимость в удалении каких-либо признаков"
   ]
  },
  {
   "cell_type": "code",
   "execution_count": null,
   "metadata": {},
   "outputs": [],
   "source": []
  },
  {
   "cell_type": "markdown",
   "metadata": {},
   "source": [
    "## 3. Оценка T-score"
   ]
  },
  {
   "cell_type": "markdown",
   "metadata": {},
   "source": [
    "$$ R_j = \\frac{|\\mu_1 - \\mu_2|} {\\sqrt{\\frac{\\sigma_1^2}{n_1} + \\frac{\\sigma_2^2}{n_2} }} $$\n",
    "\n",
    "- Для задач бинарной классификации\n",
    "- Чем больше $𝑅_𝑗$, тем информативнее признак\n",
    "- $\\mu_1, \\mu_2$ — средние значения признаков в первом и втором классах\n",
    "- $\\sigma_1^2, \\sigma_2^2$ - дисперсии\n",
    "- $n_1, n_2$ - число объектов в первом и втором классах"
   ]
  },
  {
   "cell_type": "markdown",
   "metadata": {},
   "source": []
  },
  {
   "cell_type": "markdown",
   "metadata": {},
   "source": [
    "**Задание**: напишите функцию, рассчитывающую T-score"
   ]
  },
  {
   "cell_type": "code",
   "execution_count": null,
   "metadata": {},
   "outputs": [],
   "source": [
    "def get_t_score(column, target):\n",
    "\n",
    "    return t_score"
   ]
  },
  {
   "cell_type": "markdown",
   "metadata": {},
   "source": [
    "**Задание**: Рассчитайте t_scores для всех признаков"
   ]
  },
  {
   "cell_type": "code",
   "execution_count": null,
   "metadata": {},
   "outputs": [],
   "source": []
  },
  {
   "cell_type": "markdown",
   "metadata": {},
   "source": [
    "**Задание**: Визуализируйте важность признаков в виде столбцовой диаграммы"
   ]
  },
  {
   "cell_type": "code",
   "execution_count": null,
   "metadata": {},
   "outputs": [],
   "source": []
  },
  {
   "cell_type": "markdown",
   "metadata": {},
   "source": [
    "**Задание**: составьте список отфильтрованных признаков. Соберите в небольшую функцию eliminate_features с двумя аргументами: \n",
    "- features\n",
    "- eliminated_features\n",
    "\n",
    "Сохраните результат в переменной features_list_tscore"
   ]
  },
  {
   "cell_type": "code",
   "execution_count": null,
   "metadata": {},
   "outputs": [],
   "source": []
  },
  {
   "cell_type": "code",
   "execution_count": null,
   "metadata": {},
   "outputs": [],
   "source": []
  },
  {
   "cell_type": "markdown",
   "metadata": {},
   "source": [
    "## 4. Отбор с помощью моделей"
   ]
  },
  {
   "cell_type": "code",
   "execution_count": 57,
   "metadata": {},
   "outputs": [],
   "source": [
    "from sklearn.preprocessing import StandardScaler\n",
    "from sklearn.model_selection import train_test_split \n",
    "from sklearn.linear_model import LogisticRegression \n",
    "from sklearn.ensemble import RandomForestClassifier\n",
    "from sklearn.metrics import roc_auc_score"
   ]
  },
  {
   "cell_type": "markdown",
   "metadata": {},
   "source": [
    "**Задание**: разделите данные на тренировочную и тестовую выборки со стратификацией по целевой переменной"
   ]
  },
  {
   "cell_type": "code",
   "execution_count": null,
   "metadata": {},
   "outputs": [],
   "source": []
  },
  {
   "cell_type": "code",
   "execution_count": null,
   "metadata": {},
   "outputs": [],
   "source": [
    "scaler = StandardScaler()\n",
    "X_train_scaled = pd.DataFrame(scaler.fit_transform(X_train), columns=features)\n",
    "X_test_scaled =  pd.DataFrame(scaler.transform(X_test), columns=features)"
   ]
  },
  {
   "cell_type": "markdown",
   "metadata": {},
   "source": [
    "### Отбор с помощью линейных моделей"
   ]
  },
  {
   "cell_type": "markdown",
   "metadata": {},
   "source": [
    "Если признаки масштабированы, то веса можно использовать как показатели информативности!\n",
    "\n",
    "Однако это не все. Мы изучали регуляризаторы - $L_1$ и $L_2$\n",
    "\n",
    "$$Q(a,X) + \\lambda \\sum \\limits_{j=1}^{d}{|w_j| \\rightarrow \\min_w}$$\n",
    "\n",
    "- Чем выше $\\lambda$, тем больше весов зануляется\n",
    "- Позволяет построить модель, использующую только самые важные признаки"
   ]
  },
  {
   "cell_type": "markdown",
   "metadata": {},
   "source": [
    "**Задание**: Обучим логистическую регрессию с аргументами \n",
    "- penalty='l1'\n",
    "- solver='liblinear'"
   ]
  },
  {
   "cell_type": "code",
   "execution_count": null,
   "metadata": {},
   "outputs": [],
   "source": []
  },
  {
   "cell_type": "markdown",
   "metadata": {},
   "source": [
    "**Задание**: визуализируйте важность признаков в виде столбцовой диаграммы"
   ]
  },
  {
   "cell_type": "code",
   "execution_count": null,
   "metadata": {},
   "outputs": [],
   "source": []
  },
  {
   "cell_type": "markdown",
   "metadata": {},
   "source": [
    "**Задание**: составьте список самых важных фичей по версии логистической регрессии features_list_lr"
   ]
  },
  {
   "cell_type": "code",
   "execution_count": null,
   "metadata": {},
   "outputs": [],
   "source": []
  },
  {
   "cell_type": "markdown",
   "metadata": {},
   "source": [
    "### Отбор случайным лесом"
   ]
  },
  {
   "cell_type": "markdown",
   "metadata": {},
   "source": [
    "Поиск наилучшего разбиения:\n",
    "$$ Q(X_m, j, t) = H(X_m) - \\frac{|X_l|}{|X_m|}H(X_l) - \\frac{|X_r|}{|X_m|}H(X_r) \\rightarrow \\max_{j,t}$$\n",
    "\n",
    "$H(X)$ - критерий информативности\n",
    "\n",
    "Для *решающего дерева*:\n",
    "- Чем сильнее уменьшили $𝐻(𝑋)$, тем лучше признак\n",
    "- Важность признака $𝑅_𝑗$: просуммируем уменьшения по всем вершинам, где разбиение делалось по признаку 𝑗\n",
    "\n",
    "Для *случайного леса*:\n",
    "\n",
    "- Сумма важностей $𝑅_𝑗$ по всем деревьям\n",
    "- Чем больше, тем важнее признак\n",
    "- Учитывается важность признаков в совокупности"
   ]
  },
  {
   "cell_type": "code",
   "execution_count": null,
   "metadata": {},
   "outputs": [],
   "source": []
  },
  {
   "cell_type": "markdown",
   "metadata": {},
   "source": [
    "**Задание**: Обучим случайный лес"
   ]
  },
  {
   "cell_type": "code",
   "execution_count": null,
   "metadata": {},
   "outputs": [],
   "source": []
  },
  {
   "cell_type": "markdown",
   "metadata": {},
   "source": [
    "**Задание**: визуализируйте важность признаков в виде столбцовой диаграммы"
   ]
  },
  {
   "cell_type": "code",
   "execution_count": null,
   "metadata": {},
   "outputs": [],
   "source": []
  },
  {
   "cell_type": "markdown",
   "metadata": {},
   "source": [
    "**Задание**: составьте список самых важных фичей по версии случайного леса features_list_rf"
   ]
  },
  {
   "cell_type": "code",
   "execution_count": null,
   "metadata": {},
   "outputs": [],
   "source": []
  },
  {
   "cell_type": "markdown",
   "metadata": {},
   "source": [
    "## 5. Будем учить на разных группах признаков"
   ]
  },
  {
   "cell_type": "markdown",
   "metadata": {},
   "source": [
    "**Задание**: давайте соберем функцию для обучения. Подадим ей:\n",
    "- model\n",
    "- X_train\n",
    "- X_test\n",
    "- y_train\n",
    "- y_test\n",
    "- features: набор признаков для обучения\n",
    "<br> \n",
    "В ответ она нам вернет: модель и значение roc_auc"
   ]
  },
  {
   "cell_type": "code",
   "execution_count": null,
   "metadata": {},
   "outputs": [],
   "source": []
  },
  {
   "cell_type": "markdown",
   "metadata": {},
   "source": [
    "**Задание**: Примените функцию, обучите логистическую регрессию на самых важных признаках"
   ]
  },
  {
   "cell_type": "code",
   "execution_count": null,
   "metadata": {},
   "outputs": [],
   "source": []
  },
  {
   "cell_type": "markdown",
   "metadata": {},
   "source": [
    "**Задание**: Примените функцию, обучите случайный лес на самых важных признаках"
   ]
  },
  {
   "cell_type": "code",
   "execution_count": null,
   "metadata": {},
   "outputs": [],
   "source": []
  }
 ],
 "metadata": {
  "kernelspec": {
   "display_name": "Python 3 (ipykernel)",
   "language": "python",
   "name": "python3"
  },
  "language_info": {
   "codemirror_mode": {
    "name": "ipython",
    "version": 3
   },
   "file_extension": ".py",
   "mimetype": "text/x-python",
   "name": "python",
   "nbconvert_exporter": "python",
   "pygments_lexer": "ipython3",
   "version": "3.9.5"
  }
 },
 "nbformat": 4,
 "nbformat_minor": 4
}
