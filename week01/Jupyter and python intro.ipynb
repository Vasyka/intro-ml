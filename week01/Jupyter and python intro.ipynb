{
 "cells": [
  {
   "cell_type": "markdown",
   "metadata": {
    "id": "NxTiBLuOc693"
   },
   "source": [
    "# Intro to Jupyter & Python"
   ]
  },
  {
   "cell_type": "markdown",
   "metadata": {
    "id": "qA2BfgWMc697"
   },
   "source": [
    "**Today**:\n",
    "- Jupyter, Colab, Anaconda\n",
    "- Basic structures\n",
    "- Functions & cycles\n",
    "- Data manipulations with Numpy, Scipy, Pandas\n",
    "- Data visualization with Matplotlib\n",
    "\n",
    "**On top**:\n",
    "- More detailed code notebooks to get acquainted with Python "
   ]
  },
  {
   "cell_type": "markdown",
   "metadata": {
    "id": "CuYuQ0G4c697"
   },
   "source": [
    "# Why Python\n",
    "\n",
    "**Python** is an interpreted, high-level and general-purpose programming language. Python's design philosophy emphasizes code readability with its notable use of significant whitespace. (Wiki)\n",
    "\n",
    "1) Open-source <br>\n",
    "2) A lot of libraries, i.e. code for any specific problem \n",
    "\n"
   ]
  },
  {
   "cell_type": "markdown",
   "metadata": {
    "id": "ea1j5nh_c697"
   },
   "source": [
    "# Jupyter Notebook\n",
    "\n",
    "We are inside **Jupyter Notebook**. \n",
    "\n",
    "The <a href=\"https://jupyter.org/\">Jupyter Notebook</a> is an open-source web application that allows you to create and share documents that contain live code, equations, visualizations and narrative text. Uses include: data cleaning and transformation, numerical simulation, statistical modeling, data visualization, machine learning, and much more.\n",
    "\n",
    "The file we are working on now is called a **notebook**. Its standard extension is .ipynb, and it can be read and run through the Jupyter Notebook. But it can be downloaded as an html page or pdf document."
   ]
  },
  {
   "cell_type": "markdown",
   "metadata": {
    "id": "z-QTZ9Rjc698"
   },
   "source": [
    "# Anaconda Distribution\n",
    "\n",
    "<a href=\"https://www.anaconda.com/products/individual\">Anaconda distribution</a> is a collection of data analysis tools in Python. It contains Jupyter Notebook, libraries for Python and other tools.\n",
    "\n",
    "The most useful libraries:\n",
    " - <a href=\"http://numpy.org\">Numpy</a> - is one of the main packages for scientific computing. It contains functionality for working with multidimensional arrays and high-level math functions.\n",
    " - <a href=\"http://numpy.org\">SciPy</a> - scientific computing. Optimization methods, integration, signal and image processing modules, statistics, linear algebra, splines, clustering and much more.\n",
    " -  <a href=\"http://pandas.pydata.org/\">Pandas</a> - a library for data processing and analysis. Designed for data of different nature - matrix, panel data, time series. Claims to be the most powerful and flexible analysis tool\n",
    " - <a href=\"http://scikit-learn.org/stable/\">Scikit-learn</a> - implementation of machine learning and data mining methods with excellent documentation.\n",
    " - <a href=\"http://http://matplotlib.org/\">Matplotlib</a> - library for data visualization, mainly 2D graphics.\n",
    " - <a href=\"https://pypi.org/project/seaborn/\">Seaborn</a> - a data visualization library based on matplotlib. It provides a high-level interface for drawing attractive and informative statistical graphics"
   ]
  },
  {
   "cell_type": "markdown",
   "metadata": {
    "id": "qdAt2EZac698"
   },
   "source": [
    "# How Jupyter Notebook Works\n",
    "\n",
    "- Any notebook consists of **cells**. Even the current text is written in the cell. <br>\n",
    "\n",
    "## New cell\n",
    "- To create a new cell, you can use one of the following options: <br>\n",
    "     1) use the \"+\" button on the top control panel; <br>\n",
    "     2) press the letter \"B\" from the keyboard, and a new cell will appear after the current active one; <br>\n",
    "     3) from the keyboard press the letter \"A\", and a new cell will appear before the current active one. <br>\n",
    "\n",
    "## Cell types\n",
    "- Two types of cells: <br>\n",
    "     1) Code <br>\n",
    "     2) Text <br> <br>\n",
    "- Changing the type of a cell is carried out through the upper control panel, you should click on the cell and select its type\n",
    "\n",
    "## Cell editing\n",
    "\n",
    "- Cell that is not active is gray\n",
    "- Cell is activated with one click of the cursor and turns blue\n",
    "- The cell goes into editing mode by double clicking the cursor and turns green\n",
    "\n",
    "\n",
    "## Interruption of work\n",
    "\n",
    "Sometimes it is useful to stop a running cell.\n",
    "\n",
    "- You can press the stop button when the active cell is running. STOP sign at the top.\n",
    "- You can use the option in the Kernel menu - Interrupt\n",
    "- You can radically \"reboot\" the laptop in the Kernel menu - Restart and Clear Output"
   ]
  },
  {
   "cell_type": "markdown",
   "metadata": {
    "id": "PyEhm4SSc698"
   },
   "source": [
    "# Google Colab\n",
    "- <a href=\"https://colab.research.google.com/\">Colab</a> is a Python development environment that runs in the browser using **Google Cloud**, i.e. you could work inside colab without installing python on your PC.\n",
    "- Quick intro to Colab and Python <a href=\"https://colab.research.google.com/github/tensorflow/examples/blob/master/courses/udacity_intro_to_tensorflow_for_deep_learning/l01c01_introduction_to_colab_and_python.ipynb\">here</a>.\n"
   ]
  },
  {
   "cell_type": "markdown",
   "metadata": {
    "id": "_ysGahvlc699"
   },
   "source": [
    "# Python for Data Analysis Basics \n",
    "\n",
    "For applied purposes, it is important to master several aspects:\n",
    "\n",
    "- Standard language features\n",
    "- Variables and data types\n",
    "- Basic constructions\n",
    "- Writing custom functions\n",
    "- Loading and using libraries\n",
    "- Data preprocessing and visualization"
   ]
  },
  {
   "cell_type": "markdown",
   "metadata": {
    "id": "uWX0WcMqc699"
   },
   "source": [
    "## Built-in Language Functions\n"
   ]
  },
  {
   "cell_type": "markdown",
   "metadata": {
    "id": "F9grgQHCc699"
   },
   "source": [
    "### print()\n",
    "Function for displaying content on the screen. <br>\n",
    "\n",
    "**Required**: pass at least one object to be printed.\n",
    "\n",
    "print(*objects, sep=' ', end='\\n', file=sys.stdout, flush=False)¶\n",
    "\n",
    "Optional keyword arguments:\n",
    "\n",
    "- file :  a file-like object (stream); defaults to the current sys.stdout.\n",
    "\n",
    "- sep:   string inserted between values, default a space.\n",
    "\n",
    "- end:   string appended after the last value, default a newline.\n",
    "\n",
    "- flush: whether to forcibly flush the stream."
   ]
  },
  {
   "cell_type": "code",
   "execution_count": 1,
   "metadata": {
    "id": "A1_cA7rkc69-"
   },
   "outputs": [],
   "source": [
    "print?"
   ]
  },
  {
   "cell_type": "code",
   "execution_count": 2,
   "metadata": {
    "colab": {
     "base_uri": "https://localhost:8080/"
    },
    "id": "iI8DoR_Bc69-",
    "outputId": "10f8a3aa-a083-4605-ef9f-cb48d76dc907"
   },
   "outputs": [
    {
     "name": "stdout",
     "output_type": "stream",
     "text": [
      "5\n"
     ]
    }
   ],
   "source": [
    "print(5)"
   ]
  },
  {
   "cell_type": "code",
   "execution_count": 3,
   "metadata": {
    "colab": {
     "base_uri": "https://localhost:8080/"
    },
    "id": "raDdL9JZc69_",
    "outputId": "6ab4b38f-9b00-492f-b55f-44a89d8ec446"
   },
   "outputs": [
    {
     "name": "stdout",
     "output_type": "stream",
     "text": [
      "5 6 7 8\n"
     ]
    }
   ],
   "source": [
    "print(5, 6, 7, 8)"
   ]
  },
  {
   "cell_type": "code",
   "execution_count": 4,
   "metadata": {
    "colab": {
     "base_uri": "https://localhost:8080/"
    },
    "id": "XdOO540yc69_",
    "outputId": "f98061d8-b02a-46a7-ee22-907631d2cb8d"
   },
   "outputs": [
    {
     "name": "stdout",
     "output_type": "stream",
     "text": [
      "5_6_7_8\n"
     ]
    }
   ],
   "source": [
    "print(5, 6, 7, 8, sep='_')"
   ]
  },
  {
   "cell_type": "code",
   "execution_count": 5,
   "metadata": {
    "colab": {
     "base_uri": "https://localhost:8080/"
    },
    "id": "CxBZ2KQyc6-A",
    "outputId": "4fd09077-96cc-4321-d0cb-bff4eb321520"
   },
   "outputs": [
    {
     "name": "stdout",
     "output_type": "stream",
     "text": [
      "January\n"
     ]
    }
   ],
   "source": [
    "print('January')"
   ]
  },
  {
   "cell_type": "markdown",
   "metadata": {
    "id": "9qO1x_Wfc6-A"
   },
   "source": [
    "#### Problem 1\n",
    "\n",
    "Print \"Hello, world!\""
   ]
  },
  {
   "cell_type": "code",
   "execution_count": 6,
   "metadata": {
    "colab": {
     "base_uri": "https://localhost:8080/"
    },
    "id": "TaK4B_i2c6-A",
    "outputId": "7b590353-5892-4296-b6cf-0b7821712627"
   },
   "outputs": [
    {
     "name": "stdout",
     "output_type": "stream",
     "text": [
      "Hello, world!\n"
     ]
    }
   ],
   "source": [
    "print('Hello, world!')"
   ]
  },
  {
   "cell_type": "code",
   "execution_count": 7,
   "metadata": {
    "id": "LS7NF80wc6-A"
   },
   "outputs": [],
   "source": [
    "input?"
   ]
  },
  {
   "cell_type": "markdown",
   "metadata": {
    "id": "Rl1PkCUXc6-A"
   },
   "source": [
    "### input()\n",
    "A function for entering data into the program from a keyboard. <br>\n",
    "There are no required arguments. You can pass a string that will be displayed before the input cell."
   ]
  },
  {
   "cell_type": "code",
   "execution_count": 8,
   "metadata": {
    "colab": {
     "base_uri": "https://localhost:8080/"
    },
    "id": "Fvz7dneUc6-B",
    "outputId": "febc6be7-fc3d-45d1-8d60-b4b108e7816f"
   },
   "outputs": [
    {
     "name": "stdout",
     "output_type": "stream",
     "text": [
      "Маша\n",
      "Маша\n"
     ]
    }
   ],
   "source": [
    "name = input()\n",
    "print(name)"
   ]
  },
  {
   "cell_type": "markdown",
   "metadata": {
    "id": "OhFzrhfYc6-B"
   },
   "source": [
    "And here a small transformation will allow you to display the desired text in front of the input cell"
   ]
  },
  {
   "cell_type": "code",
   "execution_count": null,
   "metadata": {
    "id": "d6GVdrtkc6-B",
    "outputId": "6864e3a9-6d2d-4792-e2f4-c42341371cf8"
   },
   "outputs": [
    {
     "name": "stdout",
     "output_type": "stream",
     "text": [
      "Input your name: Polina\n",
      "Polina\n"
     ]
    }
   ],
   "source": [
    "name = input('Input your name: ')\n",
    "print(name)"
   ]
  },
  {
   "cell_type": "markdown",
   "metadata": {
    "id": "t8prkE4bc6-B"
   },
   "source": [
    "### Arithmetic operations\n",
    "- Addition: +\n",
    "- Subtraction: -\n",
    "- Multiplication: *\n",
    "- Division: /\n",
    "- Exponentiation: **\n",
    "- Integer division: //\n",
    "- Remainder of the division: %"
   ]
  },
  {
   "cell_type": "code",
   "execution_count": 9,
   "metadata": {
    "colab": {
     "base_uri": "https://localhost:8080/"
    },
    "id": "IGdGufOTc6-B",
    "outputId": "f18ceee1-894c-4333-e46c-254faab09ee2"
   },
   "outputs": [
    {
     "name": "stdout",
     "output_type": "stream",
     "text": [
      "We are working with numbers 5 and 2\n",
      "7\n",
      "3\n",
      "10\n",
      "2.5\n",
      "2\n",
      "The remainder of the division: 1\n",
      "5 to power 2: 25\n"
     ]
    }
   ],
   "source": [
    "print('We are working with numbers', 5, 'and', 2)\n",
    "print(5 + 2)\n",
    "print(5 - 2)\n",
    "print(5*2)\n",
    "print(5 / 2)\n",
    "print( 5 // 2)\n",
    "print('The remainder of the division:', 5 % 2)\n",
    "print('5 to power 2:', 5**2)"
   ]
  },
  {
   "cell_type": "markdown",
   "metadata": {
    "id": "YmSNU5dtc6-C"
   },
   "source": [
    "#### Problem 2\n",
    "Suppose that we have $100, that could be invested with 10% interest rate. <br>\n",
    "How much money will we make in 7 years? Display the answer on the screen."
   ]
  },
  {
   "cell_type": "code",
   "execution_count": null,
   "metadata": {
    "id": "aQiZNxiJc6-C"
   },
   "outputs": [],
   "source": []
  },
  {
   "cell_type": "markdown",
   "metadata": {
    "id": "fKaB00eic6-C"
   },
   "source": [
    "### Variables and variable types\n",
    "\n",
    "The results of operations and manipulations sometimes need to be saved, so we define variables - named objects to which we assign values. "
   ]
  },
  {
   "cell_type": "code",
   "execution_count": 10,
   "metadata": {
    "id": "mMCVo3xec6-C"
   },
   "outputs": [],
   "source": [
    "savings_2017 = 2000\n",
    "savings_2016 = 1800\n",
    "increase = ((2000 - 1800) / 1800)*100"
   ]
  },
  {
   "cell_type": "code",
   "execution_count": 11,
   "metadata": {
    "colab": {
     "base_uri": "https://localhost:8080/"
    },
    "id": "dzhjt1Q6c6-C",
    "outputId": "88b8a430-5b74-487d-9f35-7a0c58988ecc"
   },
   "outputs": [
    {
     "name": "stdout",
     "output_type": "stream",
     "text": [
      "11%\n"
     ]
    }
   ],
   "source": [
    "#Print % increase\n",
    "print(round(increase), '%', sep='')"
   ]
  },
  {
   "cell_type": "markdown",
   "metadata": {
    "id": "O_HDpgb1c6-C"
   },
   "source": [
    "#### Problem 3\n",
    "\n",
    "Suppose that we have $100, that could be invested with 10% interest rate. <br>\n",
    "How much money will we make in 7 years? Display the answer on the screen.\n",
    "\n",
    "- Create a variable savings with a value of 100\n",
    "- Create a variable rate that is responsible for the annual growth\n",
    "- Store the calculation result in the result variable\n",
    "- Print the results"
   ]
  },
  {
   "cell_type": "code",
   "execution_count": null,
   "metadata": {
    "id": "A6XNy_KMc6-D"
   },
   "outputs": [],
   "source": []
  },
  {
   "cell_type": "markdown",
   "metadata": {
    "id": "ReKnalbJc6-D"
   },
   "source": [
    "A function **type** allows us to determine the type of a variable."
   ]
  },
  {
   "cell_type": "code",
   "execution_count": 12,
   "metadata": {
    "colab": {
     "base_uri": "https://localhost:8080/"
    },
    "id": "THgLGeLmc6-D",
    "outputId": "f05aa3f3-94dd-4a9d-a019-8728707a482c"
   },
   "outputs": [
    {
     "name": "stdout",
     "output_type": "stream",
     "text": [
      "<class 'int'>\n",
      "<class 'float'>\n"
     ]
    }
   ],
   "source": [
    "print(type(savings_2017))\n",
    "print(type(increase))"
   ]
  },
  {
   "cell_type": "code",
   "execution_count": 13,
   "metadata": {
    "colab": {
     "base_uri": "https://localhost:8080/"
    },
    "id": "mfoT2w9Yc6-D",
    "outputId": "9c4431ac-07b4-45a9-825a-97a9bfffabe6"
   },
   "outputs": [
    {
     "name": "stdout",
     "output_type": "stream",
     "text": [
      "<class 'str'>\n"
     ]
    }
   ],
   "source": [
    "text = 'Monatery Savings in 2017'\n",
    "print(type(text))"
   ]
  },
  {
   "cell_type": "code",
   "execution_count": 14,
   "metadata": {
    "colab": {
     "base_uri": "https://localhost:8080/"
    },
    "id": "pOlHqyxQc6-D",
    "outputId": "4d918ba5-22d4-4feb-a273-808f7181762a"
   },
   "outputs": [
    {
     "name": "stdout",
     "output_type": "stream",
     "text": [
      "<class 'bool'>\n"
     ]
    }
   ],
   "source": [
    "x = False\n",
    "print(type(x))"
   ]
  },
  {
   "cell_type": "markdown",
   "metadata": {
    "id": "jNUbjRMmc6-E"
   },
   "source": [
    "If you need to change the type of a variable, then these functions are useful:\n",
    "\n",
    "- int () - returns an integer variable\n",
    "- float () - returns a non-integer variable\n",
    "- bool () - returns a boolean variable\n",
    "- str () - returns a string variable"
   ]
  },
  {
   "cell_type": "code",
   "execution_count": 15,
   "metadata": {
    "colab": {
     "base_uri": "https://localhost:8080/"
    },
    "id": "Da7HZ8Jvc6-E",
    "outputId": "2ad59098-978b-4afc-a720-c04d15f039f3"
   },
   "outputs": [
    {
     "name": "stdout",
     "output_type": "stream",
     "text": [
      "2000 <class 'int'>\n",
      "2000 <class 'str'>\n",
      "Savings in 2017: 2000\n"
     ]
    }
   ],
   "source": [
    "print(savings_2017, type(savings_2017))\n",
    "savings_2017_new = str(savings_2017)\n",
    "print(savings_2017_new, type(savings_2017_new))\n",
    "print('Savings ' +  'in 2017: ' + savings_2017_new)"
   ]
  },
  {
   "cell_type": "code",
   "execution_count": 16,
   "metadata": {
    "colab": {
     "base_uri": "https://localhost:8080/"
    },
    "id": "PtLbetkhc6-E",
    "outputId": "4494c4a7-658f-4818-c73e-c9e0f0f3e0b4"
   },
   "outputs": [
    {
     "name": "stdout",
     "output_type": "stream",
     "text": [
      "200\n"
     ]
    }
   ],
   "source": [
    "print(int(savings_2017_new) - savings_2016)"
   ]
  },
  {
   "cell_type": "markdown",
   "metadata": {
    "id": "iWAmrekQc6-E"
   },
   "source": [
    "#### Problem 4\n",
    "\n",
    "Correct the code to make it work:"
   ]
  },
  {
   "cell_type": "code",
   "execution_count": null,
   "metadata": {
    "id": "71EeJNe6c6-E",
    "outputId": "142011e3-302a-4fcd-cd02-9b25ddaa7bae"
   },
   "outputs": [
    {
     "ename": "NameError",
     "evalue": "name 'savings' is not defined",
     "output_type": "error",
     "traceback": [
      "\u001b[1;31m---------------------------------------------------------------------------\u001b[0m",
      "\u001b[1;31mNameError\u001b[0m                                 Traceback (most recent call last)",
      "\u001b[1;32m<ipython-input-15-141df7370d3c>\u001b[0m in \u001b[0;36m<module>\u001b[1;34m\u001b[0m\n\u001b[1;32m----> 1\u001b[1;33m \u001b[0mprint\u001b[0m\u001b[1;33m(\u001b[0m\u001b[1;34m\"I started with $\"\u001b[0m \u001b[1;33m+\u001b[0m \u001b[0msavings\u001b[0m \u001b[1;33m+\u001b[0m \u001b[1;34m\" and now have $\"\u001b[0m \u001b[1;33m+\u001b[0m \u001b[0mresult\u001b[0m \u001b[1;33m+\u001b[0m \u001b[1;34m\". Not good!\"\u001b[0m\u001b[1;33m)\u001b[0m\u001b[1;33m\u001b[0m\u001b[1;33m\u001b[0m\u001b[0m\n\u001b[0m",
      "\u001b[1;31mNameError\u001b[0m: name 'savings' is not defined"
     ]
    }
   ],
   "source": [
    "print(\"I started with $\" + savings + \" and now have $\" + result + \". Not good!\")"
   ]
  },
  {
   "cell_type": "markdown",
   "metadata": {
    "id": "zZL0S1C3c6-E"
   },
   "source": [
    "### List\n",
    "\n",
    "The four considered data types are designed so that one value is written in one variable:\n",
    "- int: integer\n",
    "- float: number with fractional part\n",
    "- str: text\n",
    "- bool: boolean variable\n",
    "\n",
    "For example, if we want to record the savings of family members, we can create a number of variables and enter information there."
   ]
  },
  {
   "cell_type": "code",
   "execution_count": 17,
   "metadata": {
    "id": "0W3BsNOic6-F"
   },
   "outputs": [],
   "source": [
    "savings1 = 500\n",
    "savings2 = 1000\n",
    "savings3 = 746\n",
    "savings4 = 456"
   ]
  },
  {
   "cell_type": "markdown",
   "metadata": {
    "id": "R9RNhFRIc6-F"
   },
   "source": [
    "But this is not convenient, so we could store all the information in one variable:"
   ]
  },
  {
   "cell_type": "code",
   "execution_count": 18,
   "metadata": {
    "id": "wxAy1_5Pc6-F"
   },
   "outputs": [],
   "source": [
    "savings_family = [500, 1000, 746, 2000]"
   ]
  },
  {
   "cell_type": "markdown",
   "metadata": {
    "id": "TlXymp_ac6-F"
   },
   "source": [
    "This build-in data structure is called a **list**."
   ]
  },
  {
   "cell_type": "code",
   "execution_count": 19,
   "metadata": {
    "id": "LYMZgjMJc6-F"
   },
   "outputs": [],
   "source": [
    "savings_family = ['mom', 500,'dad', 1000, 'brother', 746, 'me', 2000]"
   ]
  },
  {
   "cell_type": "markdown",
   "metadata": {
    "id": "2KpKhhTqc6-F"
   },
   "source": [
    "Also you could create a **list of lists** :)"
   ]
  },
  {
   "cell_type": "code",
   "execution_count": 20,
   "metadata": {
    "id": "3NtDOnvic6-F"
   },
   "outputs": [],
   "source": [
    "savings_family = [['mom', 500], ['dad', 1000], ['brother', 746], ['me', 2000]]"
   ]
  },
  {
   "cell_type": "code",
   "execution_count": 21,
   "metadata": {
    "colab": {
     "base_uri": "https://localhost:8080/"
    },
    "id": "fz3qlIBwc6-G",
    "outputId": "48a104b4-6df8-48d2-fd39-1e0243bc1743"
   },
   "outputs": [
    {
     "name": "stdout",
     "output_type": "stream",
     "text": [
      "4246\n"
     ]
    }
   ],
   "source": [
    "s = 0\n",
    "for member in savings_family:\n",
    "    s = s + member[1]\n",
    "print(s)"
   ]
  },
  {
   "cell_type": "code",
   "execution_count": 22,
   "metadata": {
    "colab": {
     "base_uri": "https://localhost:8080/"
    },
    "id": "qYrFvJWec6-G",
    "outputId": "42bc1c88-c88b-442a-9ddd-aa8ecd918d3b"
   },
   "outputs": [
    {
     "name": "stdout",
     "output_type": "stream",
     "text": [
      "[['mom', 500], ['dad', 1000], ['brother', 746], ['me', 2000]]\n"
     ]
    }
   ],
   "source": [
    "print(savings_family)"
   ]
  },
  {
   "cell_type": "markdown",
   "metadata": {
    "id": "38WZRIQEc6-G"
   },
   "source": [
    "#### Problem 5\n",
    "\n",
    "Create a list 'home' that stores names and footages of the rooms in the house. Print the list."
   ]
  },
  {
   "cell_type": "code",
   "execution_count": null,
   "metadata": {
    "id": "FWh0did1c6-G"
   },
   "outputs": [],
   "source": []
  },
  {
   "cell_type": "markdown",
   "metadata": {
    "id": "gIlYJeeNc6-G"
   },
   "source": [
    "List elements can be accessed by index:"
   ]
  },
  {
   "cell_type": "code",
   "execution_count": 23,
   "metadata": {
    "colab": {
     "base_uri": "https://localhost:8080/"
    },
    "id": "lW0ZfIb1c6-G",
    "outputId": "e105eb61-97c3-465b-8806-f6320759c922"
   },
   "outputs": [
    {
     "data": {
      "text/plain": [
       "['mom', 500]"
      ]
     },
     "execution_count": 23,
     "metadata": {},
     "output_type": "execute_result"
    }
   ],
   "source": [
    "savings_family[0]"
   ]
  },
  {
   "cell_type": "code",
   "execution_count": 24,
   "metadata": {
    "colab": {
     "base_uri": "https://localhost:8080/"
    },
    "id": "pFwi2o0wc6-G",
    "outputId": "30e84a0a-356e-4040-d926-5aec154d34b4"
   },
   "outputs": [
    {
     "data": {
      "text/plain": [
       "500"
      ]
     },
     "execution_count": 24,
     "metadata": {},
     "output_type": "execute_result"
    }
   ],
   "source": [
    "savings_family[0][1]"
   ]
  },
  {
   "cell_type": "markdown",
   "metadata": {
    "id": "LeQ9vplBc6-H"
   },
   "source": [
    "There are many methods (i.e. functions that are specific to lists) for working with lists:\n",
    "\n",
    "Methods:\n",
    "- **list.append(x)**\tAdd an item to the end of the list.\n",
    "- **list.extend(L)**\tExtend the list by appending all the items from the list L.\n",
    "- **list.insert(i, x)**\tInsert an item x at a given position i.\n",
    "- **list.remove(x)**\tRemove the first item from the list whose value is equal to x. ValueError, if there is no such item.\n",
    "- **list.pop([i])**\tRemove the item at the given position in the list, and return it. If no index is specified, a.pop() removes and returns the last item in the list.\n",
    "- **list.index(x, [start [, end]])**\tReturn zero-based index in the list of the first item whose value is equal to x. Raises a ValueError if there is no such item.\n",
    "- **list.count(x)**\tReturn the number of times x appears in the list.\n",
    "- **list.sort([key=some_functions])**\tSort the items of the list in place based on some predefined function.\n",
    "- **list.reverse()**\tReverse the elements of the list in place.\n",
    "- **list.copy()**\tReturn a shallow copy of the list.\n",
    "- **list.clear()**\tRemove all items from the list."
   ]
  },
  {
   "cell_type": "code",
   "execution_count": 25,
   "metadata": {
    "colab": {
     "base_uri": "https://localhost:8080/"
    },
    "id": "sDRLljbNc6-H",
    "outputId": "f9deea5c-3861-4070-84f6-e7ac54672400"
   },
   "outputs": [
    {
     "name": "stdout",
     "output_type": "stream",
     "text": [
      "[['mom', 500], ['dad', 1000], ['brother', 746]]\n"
     ]
    }
   ],
   "source": [
    "# delete the last family member entry\n",
    "savings_family.pop()\n",
    "print(savings_family)"
   ]
  },
  {
   "cell_type": "code",
   "execution_count": 26,
   "metadata": {
    "id": "HgXckdKHc6-H"
   },
   "outputs": [],
   "source": [
    "# and now add\n",
    "savings_family.append(['me', 2000])"
   ]
  },
  {
   "cell_type": "code",
   "execution_count": 27,
   "metadata": {
    "id": "HmVJMXcKc6-H"
   },
   "outputs": [],
   "source": [
    "# Create a two-list list that keeps track of your uncle's savings of 3000 and your aunt's of 10000\n",
    "savings_relatives = [['uncle', 4000], ['aunt', 10000]]"
   ]
  },
  {
   "cell_type": "code",
   "execution_count": 28,
   "metadata": {
    "colab": {
     "base_uri": "https://localhost:8080/"
    },
    "id": "o2az9RSic6-H",
    "outputId": "0459c8dc-83a9-4106-9610-79f3a67976c8"
   },
   "outputs": [
    {
     "name": "stdout",
     "output_type": "stream",
     "text": [
      "[['mom', 500], ['dad', 1000], ['brother', 746], ['me', 2000], ['uncle', 4000], ['aunt', 10000]]\n"
     ]
    }
   ],
   "source": [
    "savings_family.extend(savings_relatives)\n",
    "print(savings_family)"
   ]
  },
  {
   "cell_type": "markdown",
   "metadata": {
    "id": "HU68IDl1c6-I"
   },
   "source": [
    "#### Problem 6\n",
    "\n",
    "Calculate the total family savings"
   ]
  },
  {
   "cell_type": "code",
   "execution_count": 29,
   "metadata": {
    "colab": {
     "base_uri": "https://localhost:8080/"
    },
    "id": "35HBBiQ0c6-I",
    "outputId": "3c7fc372-6d13-4786-981f-11259f8fb7f1"
   },
   "outputs": [
    {
     "name": "stdout",
     "output_type": "stream",
     "text": [
      "['mom', 500]\n",
      "['dad', 1000]\n",
      "['brother', 746]\n",
      "['me', 2000]\n",
      "['uncle', 4000]\n",
      "['aunt', 10000]\n"
     ]
    }
   ],
   "source": [
    "for member in savings_family:\n",
    "    ...\n",
    "    print(member)"
   ]
  },
  {
   "cell_type": "markdown",
   "metadata": {
    "id": "UozyuupHc6-I"
   },
   "source": [
    "### Conditional statements\n",
    "\n",
    "There are logical expressions that can be true or false. A simple boolean expression is  <br /> \n",
    "\n",
    "< arithmetic expression > < comparison sign > < arithmetic expression >. <br /> \n",
    "\n",
    "For example, if we have variables x and y with some values, then the logical expression <br /> x + y < 3y <br /> as the first arithmetic expression has x + y, as a comparison sign < (less than),and the second arithmetic expression is 3y.\n",
    "\n",
    "<center> \n",
    "    <table>\n",
    "        <tr>\n",
    "            <th>Logical expression </th>\n",
    "            <th> Value </th>\n",
    "        </tr> \n",
    "        <tr><td>&lt;</td><td> Less than </td></tr>\n",
    "        <tr><td>&gt;</td><td> Greater than</td></tr>\n",
    "        <tr><td>&lt;=</td><td> Less or equal</td></tr>\n",
    "        <tr><td>&gt;=</td><td> Greater or equal</td></tr>\n",
    "        <tr><td>==</td><td> Equal </td></tr>\n",
    "        <tr><td>!=</td><td> Not equal</td></tr>\n",
    "    </table>\n",
    "</center>"
   ]
  },
  {
   "cell_type": "code",
   "execution_count": null,
   "metadata": {
    "id": "UFx_ZhAzc6-I",
    "outputId": "eebe8618-22c9-4cf1-9791-8443ef172ca9"
   },
   "outputs": [
    {
     "name": "stdout",
     "output_type": "stream",
     "text": [
      "<class 'bool'>\n",
      "False\n",
      "0\n"
     ]
    }
   ],
   "source": [
    "x = 1 > 2\n",
    "print(type(x))\n",
    "print(x)\n",
    "print(int(x))"
   ]
  },
  {
   "cell_type": "markdown",
   "metadata": {
    "id": "Dsi1fyLWc6-I"
   },
   "source": [
    "To write a complex logical expression, it is often necessary to use logical connectives **and**, **or** and **not**. Operations **and** and **or** are binari operations, i.е. must be written between operands, for instance, **x < 3 or y > 2**. Operation **not** - unary and must be written before its only operand."
   ]
  },
  {
   "cell_type": "code",
   "execution_count": null,
   "metadata": {
    "id": "ohlU2-hmc6-I",
    "outputId": "7d1e4cf0-f27f-41ba-c791-c61944a1050b"
   },
   "outputs": [
    {
     "name": "stdout",
     "output_type": "stream",
     "text": [
      "3\n",
      "5\n",
      "6\n",
      "False\n",
      "False\n"
     ]
    }
   ],
   "source": [
    "x = int(input())\n",
    "y = int(input())\n",
    "z = int(input())\n",
    "print(x == y)\n",
    "print(x > y and y < z)"
   ]
  },
  {
   "cell_type": "markdown",
   "metadata": {
    "id": "PfnCp5-Xc6-J"
   },
   "source": [
    "#### Problem 7\n",
    "\n",
    "Compare x with 10. Print the result"
   ]
  },
  {
   "cell_type": "code",
   "execution_count": null,
   "metadata": {
    "id": "kVnlYPXTc6-J"
   },
   "outputs": [],
   "source": [
    "x = 7\n"
   ]
  },
  {
   "cell_type": "markdown",
   "metadata": {
    "id": "jz5Tp5Urc6-J"
   },
   "source": [
    "**Problem 8**\n",
    "\n",
    "Does mom's savings fall in the range from 300 to 500? Write a boolean expression that tests this condition"
   ]
  },
  {
   "cell_type": "code",
   "execution_count": null,
   "metadata": {
    "id": "g-80B3F1c6-J"
   },
   "outputs": [],
   "source": [
    "savings_mom = 500\n"
   ]
  },
  {
   "cell_type": "markdown",
   "metadata": {
    "id": "Ctd-mZNec6-J"
   },
   "source": [
    "\n",
    "### Conditional operator"
   ]
  },
  {
   "cell_type": "markdown",
   "metadata": {
    "id": "5qJGFF4Fc6-J"
   },
   "source": [
    "The most common use of logical expressions is in conditional statements.\n",
    "\n",
    "Python syntax: <br />\n",
    "**if** condition_1:<br />\n",
    "&emsp; commands<br />\n",
    "**elif** condition_2:<br />\n",
    "&emsp; commands<br />\n",
    "**elif** condition_3:<br />\n",
    "&emsp; commands<br />\n",
    "**else**: <br />\n",
    "&emsp; commands<br />"
   ]
  },
  {
   "cell_type": "code",
   "execution_count": 30,
   "metadata": {
    "colab": {
     "base_uri": "https://localhost:8080/"
    },
    "id": "w1CX3eXEc6-K",
    "outputId": "6157c40c-bc3c-4ac2-ba87-4fe93901d069"
   },
   "outputs": [
    {
     "name": "stdout",
     "output_type": "stream",
     "text": [
      " \n",
      "X less or equal to Y\n"
     ]
    }
   ],
   "source": [
    "x = 5\n",
    "y = 7\n",
    "if x > y:\n",
    "    print('X greater than Y')\n",
    "    print(x - y)\n",
    "else:\n",
    "    print(' ')\n",
    "    print('X less or equal to Y')"
   ]
  },
  {
   "cell_type": "code",
   "execution_count": null,
   "metadata": {
    "id": "R1JoKpCUGCqh"
   },
   "outputs": [],
   "source": [
    "x = int(input('Input X:'))\n",
    "y = int(input('Input Y:'))\n",
    "if x > y:\n",
    "    print('X greater than Y')\n",
    "    print(x - y)\n",
    "elif y > x:\n",
    "    print('Y greater than X')\n",
    "    print(y - x)\n",
    "else:\n",
    "    print('X equal to Y')"
   ]
  },
  {
   "cell_type": "markdown",
   "metadata": {
    "id": "AVN_6d06c6-K"
   },
   "source": [
    "#### Problems 9-10\n",
    "\n",
    "1) You are given the area of the kitchen. If it exceeds 15 sq.m, then the line \"The kitchen is large!\" Should appear, otherwise - \"The kitchen is small\""
   ]
  },
  {
   "cell_type": "code",
   "execution_count": null,
   "metadata": {
    "id": "WgB71Plfc6-K"
   },
   "outputs": [],
   "source": [
    "room = \"kit\"\n",
    "area = 14.0\n",
    "\n",
    "if :\n",
    "    print()\n",
    "else:\n",
    "    print()"
   ]
  },
  {
   "cell_type": "markdown",
   "metadata": {
    "id": "XYoJr5EGc6-K"
   },
   "source": [
    "2) Given a natural number, it is required to determine whether the year with the given number is a leap year. If the year is a leap year, then output YES, otherwise output NO. Recall that, according to the Gregorian calendar, a year is a leap year if its number is a multiple of 4, but not a multiple of 100, and also if it is a multiple of 400."
   ]
  },
  {
   "cell_type": "code",
   "execution_count": null,
   "metadata": {
    "id": "_mr03-94c6-K"
   },
   "outputs": [],
   "source": [
    "n = int(input())\n",
    "if :\n",
    "    print('YES')\n",
    "    \n",
    "else:\n",
    "    print('NO')"
   ]
  },
  {
   "cell_type": "markdown",
   "metadata": {
    "id": "38RUUaxCc6-L"
   },
   "source": [
    "### Cycle while\n",
    "\n",
    "As soon as a line of code has been executed, it is \"forgotten\"; to repeat this action, you must explicitly re-register. Cyclic constructs are used to repeat the same actions many times.\n",
    "\n",
    "**While** allows you to execute commands as long as the condition is true. After the completion of the execution of the block of commands related to **while**, control returns to the line with the condition and, if it is satisfied, then the execution of the block of commands is repeated, and if not, execution of the commands written after **while** continues.\n",
    "\n",
    "It's important not to accidentally loop endlessly!\n",
    "\n",
    "**while** condition_1:<br />\n",
    "&emsp; commands<br />\n"
   ]
  },
  {
   "cell_type": "code",
   "execution_count": null,
   "metadata": {
    "id": "kjtlTUslc6-L",
    "scrolled": true
   },
   "outputs": [],
   "source": [
    "# press stop button to stop execution\n",
    "temperature = 5\n",
    "while temperature > 0:\n",
    "    print('The weather is OK.')\n",
    "    #temperature = temperature - 1"
   ]
  },
  {
   "cell_type": "markdown",
   "metadata": {
    "id": "rtNWUNrTc6-L"
   },
   "source": [
    "#### Problem 11\n",
    "\n",
    "For a given integer N, print the squares of all numbers preceding N (including N) in descending order\n",
    "\n",
    "**Example**\n",
    "\n",
    "Input: <br />\n",
    "3\n",
    "\n",
    "Output: <br />\n",
    "9<br />\n",
    "4<br />\n",
    "1<br />"
   ]
  },
  {
   "cell_type": "markdown",
   "metadata": {
    "id": "x-rLwLZwc6-L"
   },
   "source": [
    "\n",
    "## Cycle for"
   ]
  },
  {
   "cell_type": "markdown",
   "metadata": {
    "id": "I7CFOV4Ac6-L"
   },
   "source": [
    "### Функция range(n)\n",
    "An object of class range is created, inside which there is an arithmetic progression in the specified ranges and with a specific step\n",
    "\n",
    "Its syntax:\n",
    "- range(start, stop[, step])"
   ]
  },
  {
   "cell_type": "code",
   "execution_count": null,
   "metadata": {
    "id": "CnwnyWF3c6-M",
    "outputId": "a1904793-70c8-4762-9849-ad15bde44b9d"
   },
   "outputs": [
    {
     "name": "stdout",
     "output_type": "stream",
     "text": [
      "range(0, 5)\n",
      "[0, 1, 2, 3, 4]\n",
      "[2, 3, 4, 5, 6]\n",
      "[2, 4]\n"
     ]
    }
   ],
   "source": [
    "print(range(5))\n",
    "print(list(range(5)))\n",
    "print(list(range(2, 7)))\n",
    "print(list(range(2, 6, 2)))"
   ]
  },
  {
   "cell_type": "markdown",
   "metadata": {
    "id": "RPafOpkoc6-M"
   },
   "source": [
    "### Cycle for\n",
    "The for loop lets you iterate through the elements from something iterable.\n",
    "\n",
    "Its syntax: <br />\n",
    "**for** i **in** range of change i:<br />\n",
    "&emsp; commands"
   ]
  },
  {
   "cell_type": "code",
   "execution_count": null,
   "metadata": {
    "id": "72z7OjCcc6-M"
   },
   "outputs": [],
   "source": [
    "n = 5\n",
    "for i in range(n + 1):\n",
    "    print(i**2)"
   ]
  },
  {
   "cell_type": "code",
   "execution_count": null,
   "metadata": {
    "id": "YTIllX14c6-M"
   },
   "outputs": [],
   "source": [
    "for color in ['red', 'green', 'yellow']:\n",
    "    print(color, 'apple')"
   ]
  },
  {
   "cell_type": "markdown",
   "metadata": {
    "id": "mw-1LKc2c6-P"
   },
   "source": [
    "#### Problem 12\n",
    "\n",
    "Print the total savings of all family members from the savings_family list using **for loop**"
   ]
  },
  {
   "cell_type": "code",
   "execution_count": null,
   "metadata": {
    "id": "oTcnrT9-c6-P"
   },
   "outputs": [],
   "source": [
    "savings_family"
   ]
  },
  {
   "cell_type": "markdown",
   "metadata": {
    "id": "Kq0NONt8c6-P"
   },
   "source": [
    "## Functional programming\n",
    "\n",
    "If some operations need to be repeated from time to time and there are no built-in functions, then you can create your own.\n",
    "\n",
    "Syntax: <br /> \n",
    "**def** function name(arguments):<br /> \n",
    "&emsp; commands<br /> \n",
    "&emsp; **return** the result <br /> \n",
    "\n",
    "The function must be written anywhere before its first call."
   ]
  },
  {
   "cell_type": "code",
   "execution_count": null,
   "metadata": {
    "id": "CqUkuY3cc6-P",
    "outputId": "15734d0f-0809-489a-adda-d10263b28d89"
   },
   "outputs": [
    {
     "name": "stdout",
     "output_type": "stream",
     "text": [
      "6\n",
      "5\n",
      "7776\n"
     ]
    }
   ],
   "source": [
    "def power(number, p):\n",
    "    result = number**p\n",
    "    return result\n",
    "\n",
    "number = int(input())\n",
    "p = int(input())\n",
    "print(power(number, p))"
   ]
  },
  {
   "cell_type": "code",
   "execution_count": null,
   "metadata": {
    "id": "ZYbKRJmhc6-P",
    "outputId": "0e8d05e9-1999-4588-e178-fb66c565e0cf"
   },
   "outputs": [
    {
     "data": {
      "text/plain": [
       "7776"
      ]
     },
     "execution_count": 37,
     "metadata": {},
     "output_type": "execute_result"
    }
   ],
   "source": [
    "6**5"
   ]
  },
  {
   "cell_type": "markdown",
   "metadata": {
    "id": "EqaQjIS-c6-Q"
   },
   "source": [
    "#### Problem 13\n",
    "\n",
    "Write a function that calculates the area of a triangle by the length of all three sides. The sides are introduced outside the function. <br />\n",
    "Hint: use Heron's formula\n",
    "$$ S = \\sqrt{p(p-a)(p-b)(p-c)} $$\n",
    "$$ p = \\frac{a + b + c}{2}$$\n",
    "**Example**\n",
    "\n",
    "Input:<br />\n",
    "3\n",
    "4\n",
    "5\n",
    "\n",
    "Output: <br />\n",
    "6"
   ]
  },
  {
   "cell_type": "code",
   "execution_count": null,
   "metadata": {
    "id": "HYbA6We1c6-Q"
   },
   "outputs": [],
   "source": [
    "def square_triangle(a, b, c):\n",
    "    ...\n",
    "    return "
   ]
  },
  {
   "cell_type": "code",
   "execution_count": null,
   "metadata": {
    "id": "XAH4vfcgc6-Q"
   },
   "outputs": [],
   "source": [
    "a = int(input())\n",
    "b = int(input())\n",
    "c = int(input())\n",
    "print(square_triangle(a, b, c))"
   ]
  },
  {
   "cell_type": "markdown",
   "metadata": {
    "id": "mdE7QlCAc6-Q"
   },
   "source": [
    "# Intro to Numpy"
   ]
  },
  {
   "cell_type": "markdown",
   "metadata": {
    "id": "GTOH76l3c6-Q"
   },
   "source": [
    "Library import:"
   ]
  },
  {
   "cell_type": "code",
   "execution_count": null,
   "metadata": {
    "id": "IVNo3MD_c6-Q"
   },
   "outputs": [],
   "source": [
    "import numpy as np"
   ]
  },
  {
   "cell_type": "markdown",
   "metadata": {
    "id": "XVMVL-xGc6-Q"
   },
   "source": [
    "### 1. Numpy array structure np.ndarray\n",
    "\n",
    "np.ndarray - it is an array containing elements **of the same type**.\n",
    "\n",
    "It means that:"
   ]
  },
  {
   "cell_type": "code",
   "execution_count": null,
   "metadata": {
    "id": "o2-25__Rc6-R"
   },
   "outputs": [],
   "source": [
    "a = [2, 4, 5]\n",
    "a"
   ]
  },
  {
   "cell_type": "code",
   "execution_count": null,
   "metadata": {
    "id": "MnuitHJFc6-R"
   },
   "outputs": [],
   "source": [
    "a_numpy = np.array(a)\n",
    "a_numpy.dtype"
   ]
  },
  {
   "cell_type": "code",
   "execution_count": null,
   "metadata": {
    "id": "wb3g-Y9Cc6-R"
   },
   "outputs": [],
   "source": [
    "b = [2, 3.14]\n",
    "np.array(b)"
   ]
  },
  {
   "cell_type": "code",
   "execution_count": null,
   "metadata": {
    "id": "wKqlYR6oc6-R"
   },
   "outputs": [],
   "source": [
    "c = [2, 3.14, 'kotiki']\n",
    "np.array(c)"
   ]
  },
  {
   "cell_type": "code",
   "execution_count": null,
   "metadata": {
    "id": "tQn9Ft1Lc6-R"
   },
   "outputs": [],
   "source": [
    "my_list = [2, 4.14, 'kotiki', [2,3,4]]\n",
    "my_list"
   ]
  },
  {
   "cell_type": "code",
   "execution_count": null,
   "metadata": {
    "id": "KfPIaosdc6-S"
   },
   "outputs": [],
   "source": [
    "# As object dtype\n",
    "np.array([2, 4.14, 'kotiki', [2, 4, 5]], dtype='object')"
   ]
  },
  {
   "cell_type": "markdown",
   "metadata": {
    "id": "pvZK9OCUc6-S"
   },
   "source": [
    "### Indexing"
   ]
  },
  {
   "cell_type": "code",
   "execution_count": null,
   "metadata": {
    "id": "ZiUBmcdxc6-S"
   },
   "outputs": [],
   "source": [
    "a_numpy"
   ]
  },
  {
   "cell_type": "code",
   "execution_count": null,
   "metadata": {
    "id": "J_pOMGjRc6-S"
   },
   "outputs": [],
   "source": [
    "a_numpy[0]"
   ]
  },
  {
   "cell_type": "code",
   "execution_count": null,
   "metadata": {
    "id": "V_8EYt0Dc6-S"
   },
   "outputs": [],
   "source": [
    "a_numpy[1]"
   ]
  },
  {
   "cell_type": "code",
   "execution_count": null,
   "metadata": {
    "id": "_zed-fh_c6-S"
   },
   "outputs": [],
   "source": [
    "a_numpy[-1]"
   ]
  },
  {
   "cell_type": "code",
   "execution_count": null,
   "metadata": {
    "id": "H_oN__Ppc6-T"
   },
   "outputs": [],
   "source": [
    "a_numpy[:-2]"
   ]
  },
  {
   "cell_type": "code",
   "execution_count": null,
   "metadata": {
    "id": "yCxw4dmpc6-T"
   },
   "outputs": [],
   "source": [
    "a_numpy[1:4]"
   ]
  },
  {
   "cell_type": "code",
   "execution_count": null,
   "metadata": {
    "id": "VyMf9qCRc6-T"
   },
   "outputs": [],
   "source": [
    "# subsampling an array with boolean conditions\n",
    "a_numpy[(a_numpy > 4) & (a_numpy < 6)]"
   ]
  },
  {
   "cell_type": "code",
   "execution_count": null,
   "metadata": {
    "id": "_binsncyc6-T"
   },
   "outputs": [],
   "source": [
    "a_numpy[a_numpy > 2]"
   ]
  },
  {
   "cell_type": "markdown",
   "metadata": {
    "id": "Q3AW1Bb8c6-T"
   },
   "source": [
    "### Built-in methods"
   ]
  },
  {
   "cell_type": "markdown",
   "metadata": {
    "id": "PwPUYm8Sc6-T"
   },
   "source": [
    "to overview all available methods, after the dot (.) press \"Tab\""
   ]
  },
  {
   "cell_type": "code",
   "execution_count": null,
   "metadata": {
    "id": "uMok5xThc6-U"
   },
   "outputs": [],
   "source": [
    "a_numpy"
   ]
  },
  {
   "cell_type": "code",
   "execution_count": null,
   "metadata": {
    "id": "-dRkACn5c6-U"
   },
   "outputs": [],
   "source": [
    "# sum of all array elements\n",
    "a_numpy.sum()"
   ]
  },
  {
   "cell_type": "code",
   "execution_count": null,
   "metadata": {
    "id": "D2gZR-ltc6-U"
   },
   "outputs": [],
   "source": [
    "# average of all array elements\n",
    "a_numpy.mean()"
   ]
  },
  {
   "cell_type": "code",
   "execution_count": null,
   "metadata": {
    "id": "X6e1_9UWc6-U"
   },
   "outputs": [],
   "source": [
    "# maximum array element\n",
    "a_numpy.max()"
   ]
  },
  {
   "cell_type": "code",
   "execution_count": null,
   "metadata": {
    "id": "nmJoJUBBc6-U"
   },
   "outputs": [],
   "source": [
    "# minimum element of the array\n",
    "a_numpy.min()"
   ]
  },
  {
   "cell_type": "code",
   "execution_count": null,
   "metadata": {
    "id": "AhZ32Tm2c6-U"
   },
   "outputs": [],
   "source": [
    "# result of multiplying all elements of the array\n",
    "a_numpy.prod()"
   ]
  },
  {
   "cell_type": "code",
   "execution_count": null,
   "metadata": {
    "id": "FO6D191kc6-V"
   },
   "outputs": [],
   "source": [
    "# array with strings\n",
    "b = np.array(['Maria', 'Evgenii', 'Polina', 'Misha', 'Anya'])"
   ]
  },
  {
   "cell_type": "code",
   "execution_count": null,
   "metadata": {
    "id": "hTqrjCktc6-V"
   },
   "outputs": [],
   "source": [
    "# sort\n",
    "b.sort()\n",
    "b"
   ]
  },
  {
   "cell_type": "code",
   "execution_count": null,
   "metadata": {
    "id": "1ViicDSwc6-V"
   },
   "outputs": [],
   "source": [
    "%%timeit\n",
    "a_numpy.sum()"
   ]
  },
  {
   "cell_type": "code",
   "execution_count": null,
   "metadata": {
    "id": "fojkDkqoc6-V"
   },
   "outputs": [],
   "source": [
    "%%timeit\n",
    "a_numpy.mean()"
   ]
  },
  {
   "cell_type": "code",
   "execution_count": null,
   "metadata": {
    "id": "_Dy0x3HXc6-V"
   },
   "outputs": [],
   "source": [
    "# measures the execution time of the entire cell"
   ]
  },
  {
   "cell_type": "code",
   "execution_count": null,
   "metadata": {
    "id": "ykC63brfc6-V"
   },
   "outputs": [],
   "source": [
    "%%timeit\n",
    "a_numpy.sum()\n",
    "a_numpy.mean()"
   ]
  },
  {
   "cell_type": "code",
   "execution_count": null,
   "metadata": {
    "id": "ZMl2X2y1c6-W"
   },
   "outputs": [],
   "source": [
    "# Set parameters\n",
    "## n - number of cycles\n",
    "## m - number of iterations in one cycle"
   ]
  },
  {
   "cell_type": "code",
   "execution_count": null,
   "metadata": {
    "id": "-7JXKeeyc6-W"
   },
   "outputs": [],
   "source": [
    "%%timeit -n 5 -r 10\n",
    "a_numpy.sum()"
   ]
  },
  {
   "cell_type": "markdown",
   "metadata": {
    "id": "deCphddec6-W"
   },
   "source": [
    "### Vectorized operations (no-cycle operations)\n",
    "\n",
    "#### Example: elementwise addition of two one-dimensional arrays"
   ]
  },
  {
   "cell_type": "code",
   "execution_count": null,
   "metadata": {
    "id": "OPSZ0i8Hc6-W"
   },
   "outputs": [],
   "source": [
    "# import the library\n",
    "import numpy as np\n",
    "\n",
    "# fix the random number generator\n",
    "np.random.seed(42)\n",
    "\n",
    "# create two numpy arrays\n",
    "a_numpy = np.random.randint(low=1, high=10, size=5)\n",
    "b_numpy = np.random.randint(low=1, high=10, size=5)\n",
    "print('a_numpy: {}, b_numpy: {}, type: {}'.format(a_numpy, b_numpy, type(a_numpy)))\n",
    "\n",
    "# create two similar lists\n",
    "a_list = a_numpy.tolist()\n",
    "b_list = b_numpy.tolist()\n",
    "print('a_list: {}, b_list: {}, type: {}'.format(a_list, b_list, type(a_list)))"
   ]
  },
  {
   "cell_type": "markdown",
   "metadata": {
    "id": "ZxmYt-Jqc6-W"
   },
   "source": [
    "pure python:"
   ]
  },
  {
   "cell_type": "code",
   "execution_count": null,
   "metadata": {
    "id": "pzAbDvgJc6-W"
   },
   "outputs": [],
   "source": [
    "sum_arr=[]\n",
    "for i in range(len(a_list)):\n",
    "    sum_arr.append(a_list[i] + b_list[i])\n",
    "print(sum_arr)"
   ]
  },
  {
   "cell_type": "markdown",
   "metadata": {
    "id": "samq3rjxc6-X"
   },
   "source": [
    "vectorized solution with numpy:"
   ]
  },
  {
   "cell_type": "code",
   "execution_count": null,
   "metadata": {
    "id": "dD1q7rS7c6-X"
   },
   "outputs": [],
   "source": [
    "sum_numpy = a_numpy + b_numpy\n",
    "print(sum_numpy)"
   ]
  },
  {
   "cell_type": "code",
   "execution_count": null,
   "metadata": {
    "id": "Gwo7M40pc6-X"
   },
   "outputs": [],
   "source": [
    "%%timeit\n",
    "sum_arr=[]\n",
    "for i in range(len(a_list)):\n",
    "    sum_arr.append(a_list[i] + b_list[i])"
   ]
  },
  {
   "cell_type": "code",
   "execution_count": null,
   "metadata": {
    "id": "Oq7y_xl5c6-X"
   },
   "outputs": [],
   "source": [
    "%%timeit\n",
    "sum_numpy = a_numpy + b_numpy"
   ]
  },
  {
   "cell_type": "markdown",
   "metadata": {
    "id": "87FpVJBMc6-X"
   },
   "source": [
    "#### Computing the product of two matrices"
   ]
  },
  {
   "cell_type": "code",
   "execution_count": null,
   "metadata": {
    "id": "iHeDCRPuc6-X"
   },
   "outputs": [],
   "source": [
    "import random"
   ]
  },
  {
   "cell_type": "code",
   "execution_count": null,
   "metadata": {
    "id": "amJajI_Tc6-X"
   },
   "outputs": [],
   "source": [
    "# an example of how else you can fix a random number generator\n",
    "random.seed(42)"
   ]
  },
  {
   "cell_type": "code",
   "execution_count": null,
   "metadata": {
    "id": "SXU383elc6-Y"
   },
   "outputs": [],
   "source": [
    "np.random.seed(42)\n",
    "\n",
    "# create two numpy arrays\n",
    "a_numpy = np.random.randint(low=1, high=10, size=(3,4))\n",
    "b_numpy = np.random.randint(low=1, high=10, size=(4,3))\n",
    "print('a_numpy: \\n{}, \\n\\nb_numpy: \\n{}, \\n\\ntype: {}'.format(a_numpy, b_numpy, type(a_numpy)))\n",
    "\n",
    "# create two similar lists\n",
    "a_list = a_numpy.tolist()\n",
    "b_list = b_numpy.tolist()\n",
    "print('\\na_list: \\n{}, \\n\\nb_list: \\n{}, \\n\\ntype: {}'.format(a_list, b_list, type(a_list)))"
   ]
  },
  {
   "cell_type": "markdown",
   "metadata": {
    "id": "ZYTSd_SNc6-Y"
   },
   "source": [
    "* pure python"
   ]
  },
  {
   "cell_type": "code",
   "execution_count": null,
   "metadata": {
    "id": "dme8JyLfc6-Y"
   },
   "outputs": [],
   "source": [
    "prod_arr = [[],[],[]]\n",
    "\n",
    "for i in range(len(a_list)):\n",
    "    for j in range(len(a_list)):\n",
    "        sum_ = 0\n",
    "        for k in range(len(b_list)):\n",
    "            sum_ += a_list[i][k] * b_list[k][j]\n",
    "        prod_arr[i].append(sum_)"
   ]
  },
  {
   "cell_type": "code",
   "execution_count": null,
   "metadata": {
    "id": "73AhsNj3c6-Y"
   },
   "outputs": [],
   "source": [
    "print(prod_arr)"
   ]
  },
  {
   "cell_type": "markdown",
   "metadata": {
    "id": "RPPb74Xcc6-Y"
   },
   "source": [
    "* vectorized solution with numpy"
   ]
  },
  {
   "cell_type": "code",
   "execution_count": null,
   "metadata": {
    "id": "cqmKcfx5c6-Y"
   },
   "outputs": [],
   "source": [
    "c = np.zeros((a_numpy.shape[0], b_numpy.shape[1]))\n",
    "for i in range(a_numpy.shape[0]):\n",
    "    for j in range(b_numpy.shape[1]):\n",
    "        for s in range(a_numpy.shape[1]):\n",
    "            c[i, j] += a_numpy[i, s] * b_numpy[s, j]"
   ]
  },
  {
   "cell_type": "code",
   "execution_count": null,
   "metadata": {
    "id": "_PSWlk-Sc6-Z"
   },
   "outputs": [],
   "source": [
    "print(c)"
   ]
  },
  {
   "cell_type": "markdown",
   "metadata": {
    "id": "7-b3xCPSc6-Z"
   },
   "source": [
    "* built-in numpy method"
   ]
  },
  {
   "cell_type": "code",
   "execution_count": null,
   "metadata": {
    "id": "00j5O1h2c6-Z"
   },
   "outputs": [],
   "source": [
    "a_numpy.dot(b_numpy)"
   ]
  },
  {
   "cell_type": "code",
   "execution_count": null,
   "metadata": {
    "id": "HmR4R9x-c6-Z"
   },
   "outputs": [],
   "source": [
    "%%timeit\n",
    "prod_arr = [[],[],[]]\n",
    "\n",
    "for i in range(len(a_list)):\n",
    "    for j in range(len(a_list)):\n",
    "        sum_ = 0\n",
    "        for k in range(len(b_list)):\n",
    "            sum_ += a_list[i][k] * b_list[k][j]\n",
    "        prod_arr[i].append(sum_)"
   ]
  },
  {
   "cell_type": "code",
   "execution_count": null,
   "metadata": {
    "id": "-5f4pXQcc6-Z"
   },
   "outputs": [],
   "source": [
    "%%timeit\n",
    "c = np.zeros((a_numpy.shape[0], b_numpy.shape[1]))\n",
    "for i in range(a_numpy.shape[0]):\n",
    "    for j in range(b_numpy.shape[1]):\n",
    "        for s in range(a_numpy.shape[1]):\n",
    "            c[i, j] += a_numpy[i, s] * b_numpy[s, j]"
   ]
  },
  {
   "cell_type": "code",
   "execution_count": null,
   "metadata": {
    "id": "o4b7u1uYc6-a"
   },
   "outputs": [],
   "source": [
    "%%timeit\n",
    "a_numpy.dot(b_numpy)"
   ]
  },
  {
   "cell_type": "markdown",
   "metadata": {
    "id": "k6CNWaifc6-a"
   },
   "source": [
    "#### Example: Chaining Calculations"
   ]
  },
  {
   "cell_type": "markdown",
   "metadata": {
    "id": "2EcV1Tync6-a"
   },
   "source": [
    "Given a functions\n",
    "\n",
    "$f(x) = \\frac{1}{2}x^TAx + b^Tx + c$\n",
    "\n",
    "and its gradient\n",
    "\n",
    "$\\nabla{f(x)} = \\frac{1}{2}(A + A^T)x + b$\n",
    "\n",
    "calculate $f(x)$ and $\\nabla{f(x)}$ at the given point $x$"
   ]
  },
  {
   "cell_type": "code",
   "execution_count": null,
   "metadata": {
    "id": "YibETrvzc6-a"
   },
   "outputs": [],
   "source": [
    "np.random.seed(42)\n",
    "A = np.random.randint(low=1, high=10, size=(3,3))\n",
    "print(A)"
   ]
  },
  {
   "cell_type": "code",
   "execution_count": null,
   "metadata": {
    "id": "pUCe53jkc6-a"
   },
   "outputs": [],
   "source": [
    "x = np.random.randint(1,10,3)\n",
    "b = np.random.randint(1,10,3)\n",
    "c = np.random.randint(1,10,1)\n",
    "print('x:', x)\n",
    "print('b:', b)\n",
    "print('c:', c)"
   ]
  },
  {
   "cell_type": "code",
   "execution_count": null,
   "metadata": {
    "id": "Rx3qGG3xc6-a"
   },
   "outputs": [],
   "source": [
    "0.5 * x.T.dot(A).dot(x) + b.T.dot(x) + c"
   ]
  },
  {
   "cell_type": "code",
   "execution_count": null,
   "metadata": {
    "id": "pzfpQQEuc6-b"
   },
   "outputs": [],
   "source": [
    "0.5 * (A + A.T).dot(x) + b"
   ]
  },
  {
   "cell_type": "code",
   "execution_count": null,
   "metadata": {
    "id": "EQhOOvXwc6-b"
   },
   "outputs": [],
   "source": [
    "x.T@(A)"
   ]
  },
  {
   "cell_type": "code",
   "execution_count": null,
   "metadata": {
    "id": "e8mkkQbFc6-b"
   },
   "outputs": [],
   "source": [
    "x.T.dot(A)"
   ]
  },
  {
   "cell_type": "markdown",
   "metadata": {
    "id": "RkZfZ6B5c6-b"
   },
   "source": [
    "# Intro to Pandas\n"
   ]
  },
  {
   "cell_type": "code",
   "execution_count": null,
   "metadata": {
    "id": "ElXCitDrc6-b"
   },
   "outputs": [],
   "source": [
    "import pandas as pd"
   ]
  },
  {
   "cell_type": "markdown",
   "metadata": {
    "id": "SDI9iWAuc6-b"
   },
   "source": [
    "There are two data structures in pandas:\n",
    "- **Series**: a one-dimensional array with named indices (most often, data of the same type)\n",
    "- **DataFrame**: two-dimensional array, has a tabular structure, is easily resizable, can contain data of different types\n",
    "\n",
    "Both types can be created manually using functions from the library itself:\n",
    "- pandas.Series(data=None, index=None, dtype=None)\n",
    "- pandas.DataFrame(data=None, index=None, columns=None, dtype=None)\n",
    "\n",
    "- **data** - data to be written to the structure\n",
    "- **index** - row indices\n",
    "- **columns** - column names\n",
    "- **dtype** - data type\n",
    "\n",
    "Besides **data**, other parameters are optional.\n"
   ]
  },
  {
   "cell_type": "markdown",
   "metadata": {
    "id": "Nh422xlIc6-c"
   },
   "source": [
    "We can of course create the dataframes ourselves!"
   ]
  },
  {
   "cell_type": "code",
   "execution_count": null,
   "metadata": {
    "id": "PryMS1cJc6-c"
   },
   "outputs": [],
   "source": [
    "columns = ['country', 'province', 'region_1', 'region_2']\n",
    "index = [0, 1, 10, 100]\n",
    "data = [['Italy', 'Sicily & Sardinia', 'Etna', 'NaN'], \n",
    "        ['Portugal', 'Douro', 'NaN', 'NaN'],\n",
    "       ['US', 'California', 'Napa Valley', 'Napa'],\n",
    "       ['US', 'New York', 'Finger Lakes', 'Finger Lakes']]"
   ]
  },
  {
   "cell_type": "markdown",
   "metadata": {
    "id": "YYP3e9xNc6-c"
   },
   "source": [
    "Now let's put it into a dataframe"
   ]
  },
  {
   "cell_type": "code",
   "execution_count": null,
   "metadata": {
    "id": "h5DTkaSkc6-c",
    "scrolled": true
   },
   "outputs": [],
   "source": [
    "df = pd.DataFrame(data, columns = columns, index = index)\n",
    "df"
   ]
  },
  {
   "cell_type": "markdown",
   "metadata": {
    "id": "p2IrekuNc6-c"
   },
   "source": [
    "#### Pandas problem 1\n",
    "\n",
    "Create pandas dataframe from the table below\n",
    "\n",
    "<center> \n",
    "    <table>\n",
    "        <tr>\n",
    "            <th> Name </th>\n",
    "            <th> Score </th>\n",
    "            <th> Attempts </th>\n",
    "            <th> Qualify </th>\n",
    "        </tr> \n",
    "        <tr><td> Anastasia </td><td> 12.5 </td><td> 1 </td><td> Yes </td></tr>\n",
    "        <tr><td> Dima </td><td> 9.0 </td><td> 3 </td><td> No </td></tr>\n",
    "        <tr><td> Kate </td><td> 16.5 </td><td> 2 </td><td> Yes </td></tr>\n",
    "        <tr><td> James </td><td> Nan </td><td> 3 </td><td> No </td></tr>\n",
    "        <tr><td> Emily </td><td> 9.0 </td><td> 2 </td><td> No </td></tr>        \n",
    "    </table>\n",
    "</center>"
   ]
  },
  {
   "cell_type": "code",
   "execution_count": null,
   "metadata": {
    "id": "jH5r2e8Cc6-c"
   },
   "outputs": [],
   "source": []
  },
  {
   "cell_type": "markdown",
   "metadata": {
    "id": "uYI6eFYNc6-c"
   },
   "source": [
    "### Loading and writing data\n",
    "\n",
    "The truth is that we will not be so cruel to ourselves and will not manually enter data. We will load from a file.\n",
    "\n",
    "\n",
    "- Functions of the common format **pd.read_format** и **pd.to_format**\n",
    "read and write data, respectively. <br /> A complete list can be found in the documentation:\n",
    "http://pandas.pydata.org/pandas-docs/stable/io.html\n",
    "\n",
    "\n",
    "Let's learn how to read data in csv (comma separated value) format with the function:\n",
    "\n",
    "- <a href=\"http://pandas.pydata.org/pandas-docs/stable/generated/pandas.read_csv.html#pandas.read_csv\"> pd.read_csv()</a>: \n",
    "\n",
    "She has a lot of critical arguments:\n",
    " - **filepath_or_buffer** - text string with the name (address) of the file\n",
    " - **sep** - separator between data\n",
    " - **header** - the number of the line in which the column names are indicated in the file, None if not\n",
    " - **names** - a list with column names\n",
    " - **index_col** - a column number, or a list, or nothing - a column in the file to take the row names\n"
   ]
  },
  {
   "cell_type": "markdown",
   "metadata": {
    "id": "guru_n1Ac6-d"
   },
   "source": [
    "We will work with Wine dataset. The name of the file is 'dpo_1-2_winemag-data_first150k.csv'"
   ]
  },
  {
   "cell_type": "code",
   "execution_count": null,
   "metadata": {
    "id": "1hASGTlxc6-d"
   },
   "outputs": [],
   "source": [
    "data = pd.read_csv('dpo_1-2_winemag-data_first150k.csv')"
   ]
  },
  {
   "cell_type": "markdown",
   "metadata": {
    "id": "PDvJTHfqc6-d"
   },
   "source": [
    "\n",
    "### See what's loaded"
   ]
  },
  {
   "cell_type": "code",
   "execution_count": null,
   "metadata": {
    "id": "gvmO8Bmbc6-d"
   },
   "outputs": [],
   "source": [
    "data.head(5)"
   ]
  },
  {
   "cell_type": "markdown",
   "metadata": {
    "id": "_-H7oW6Zc6-d"
   },
   "source": [
    "There is something wrong with the first column, let's fix it "
   ]
  },
  {
   "cell_type": "code",
   "execution_count": null,
   "metadata": {
    "id": "MW_Jruu8c6-d"
   },
   "outputs": [],
   "source": [
    "data = pd.read_csv('dpo_1-2_winemag-data_first150k.csv', index_col = 0)"
   ]
  },
  {
   "cell_type": "code",
   "execution_count": null,
   "metadata": {
    "id": "4zPiU1Xwc6-d",
    "scrolled": true
   },
   "outputs": [],
   "source": [
    "data.head(3)"
   ]
  },
  {
   "cell_type": "markdown",
   "metadata": {
    "id": "h7JiNtaXc6-d"
   },
   "source": [
    "### Let's see what has loaded:\n",
    "\n",
    "- Let's count the number of entries\n",
    "- Let's check the data types\n",
    "- Check if there are gaps in the data"
   ]
  },
  {
   "cell_type": "markdown",
   "metadata": {
    "id": "yitOhI5Mc6-e"
   },
   "source": [
    "Let's count how many records are in the data.\n",
    "\n",
    "- The **count ()** method helps"
   ]
  },
  {
   "cell_type": "code",
   "execution_count": null,
   "metadata": {
    "id": "WP33DJwKc6-e",
    "scrolled": true
   },
   "outputs": [],
   "source": [
    "data.count()"
   ]
  },
  {
   "cell_type": "markdown",
   "metadata": {
    "id": "vRcuXbJzc6-e"
   },
   "source": [
    "- The **info()** method also shows what type of data is in the columns"
   ]
  },
  {
   "cell_type": "code",
   "execution_count": null,
   "metadata": {
    "id": "vFbmSgZpc6-e"
   },
   "outputs": [],
   "source": [
    "data.info()"
   ]
  },
  {
   "cell_type": "code",
   "execution_count": null,
   "metadata": {
    "id": "x34OmK1Tc6-e"
   },
   "outputs": [],
   "source": [
    "data.dtypes"
   ]
  },
  {
   "cell_type": "markdown",
   "metadata": {
    "id": "MGekuJUac6-e"
   },
   "source": [
    "Let's start checking for gaps!\n",
    "\n",
    "- **.isnull ()** - produces a table, where False - the cell is full, True - the cell is empty :( Closest relatives - isna ()"
   ]
  },
  {
   "cell_type": "code",
   "execution_count": null,
   "metadata": {
    "id": "AzCCJatgc6-f"
   },
   "outputs": [],
   "source": [
    "data.isnull()"
   ]
  },
  {
   "cell_type": "markdown",
   "metadata": {
    "id": "18SQE1wUc6-f"
   },
   "source": [
    "Let me get ahead of the story and show you how to visually assess the scale of a disaster :)"
   ]
  },
  {
   "cell_type": "code",
   "execution_count": null,
   "metadata": {
    "id": "ja_xkzHrc6-f"
   },
   "outputs": [],
   "source": [
    "import matplotlib.pyplot as plt\n",
    "import seaborn as sns\n",
    "\n",
    "fig, ax = plt.subplots(figsize=(20,12))\n",
    "sns_heatmap = sns.heatmap(data.isnull(), yticklabels=False, cbar=False, cmap='viridis')\n",
    "plt.show()"
   ]
  },
  {
   "cell_type": "markdown",
   "metadata": {
    "id": "zHdReydgc6-f"
   },
   "source": [
    "What we could do?\n",
    "\n",
    "There is not much choice: <br>\n",
    "\n",
    "1) Delete: \n",
    "- dropna(axis=0, how='any'): axis = 0 - delete line, axis = 1 drop the column; how = 'any' - drop if there is at least one empty cell. how = 'all' - drop if there is a completely empty row or column\n",
    "\n",
    "2) Fill in the gaps:\n",
    "- fillna() - an art of fill in the gaps (will be discussed later in the course)\n"
   ]
  },
  {
   "cell_type": "markdown",
   "metadata": {
    "id": "rm_ZYw6qc6-f"
   },
   "source": [
    "### Descriptive statistics\n",
    "\n",
    "Now let's see what we have.\n",
    "\n",
    "We will calculate the main descriptive statistics. All at once :)\n",
    "\n",
    "- describe() - a method that returns a table with descriptive statistics. In this form, it counts everything for numeric columns"
   ]
  },
  {
   "cell_type": "code",
   "execution_count": null,
   "metadata": {
    "id": "LkcMPrAVc6-f",
    "scrolled": true
   },
   "outputs": [],
   "source": [
    "data.describe()"
   ]
  },
  {
   "cell_type": "markdown",
   "metadata": {
    "id": "5c_4KtFQc6-g"
   },
   "source": [
    "A bit of magic, and non-numeric data will also have its descriptive statistics."
   ]
  },
  {
   "cell_type": "code",
   "execution_count": null,
   "metadata": {
    "id": "vlvD98tgc6-g"
   },
   "outputs": [],
   "source": [
    "data.describe(include=['O'])"
   ]
  },
  {
   "cell_type": "markdown",
   "metadata": {
    "id": "qc8Ir89Zc6-g"
   },
   "source": [
    "In general, everything can be calculated for individual columns.\n",
    "\n",
    "But we haven't learned how to select columns. Well, time for action."
   ]
  },
  {
   "cell_type": "markdown",
   "metadata": {
    "id": "yCzVPIY2c6-g"
   },
   "source": [
    "### Data slices\n",
    "\n",
    "Let's say we don't need a dataset, but only specific columns or rows or columns and rows.\n",
    "\n",
    "\n",
    "How?\n",
    "\n",
    "Remember that:\n",
    "- the columns have names\n",
    "- the rows have names\n",
    "- if there are no names, then there are always their indexes\n",
    "\n",
    "Based on this idea, we will start slicing data."
   ]
  },
  {
   "cell_type": "code",
   "execution_count": null,
   "metadata": {
    "id": "qqWnALcOc6-g"
   },
   "outputs": [],
   "source": [
    "data.head(1)"
   ]
  },
  {
   "cell_type": "markdown",
   "metadata": {
    "id": "KCCL6sIqc6-g"
   },
   "source": [
    "####  Select by columns. Version 1."
   ]
  },
  {
   "cell_type": "code",
   "execution_count": null,
   "metadata": {
    "id": "ceZdd-z_c6-h"
   },
   "outputs": [],
   "source": [
    "data['price']"
   ]
  },
  {
   "cell_type": "code",
   "execution_count": null,
   "metadata": {
    "id": "aUEJkKeEc6-h"
   },
   "outputs": [],
   "source": [
    "data[['price','country']]"
   ]
  },
  {
   "cell_type": "markdown",
   "metadata": {
    "id": "IyvA_421c6-h"
   },
   "source": [
    "#### Select by rows. Version 1.\n"
   ]
  },
  {
   "cell_type": "code",
   "execution_count": null,
   "metadata": {
    "id": "EZX0DxT_c6-h"
   },
   "outputs": [],
   "source": [
    "data[0:1]"
   ]
  },
  {
   "cell_type": "code",
   "execution_count": null,
   "metadata": {
    "id": "LVGKgO0oc6-h"
   },
   "outputs": [],
   "source": [
    "data[:1]"
   ]
  },
  {
   "cell_type": "markdown",
   "metadata": {
    "id": "tJpnHU_sc6-i"
   },
   "source": [
    "#### Select by columns. Version 2. Still by names"
   ]
  },
  {
   "cell_type": "code",
   "execution_count": null,
   "metadata": {
    "id": "mwJ22q1Ic6-i"
   },
   "outputs": [],
   "source": [
    "data.loc[:, ['price']]"
   ]
  },
  {
   "cell_type": "markdown",
   "metadata": {
    "id": "d1ELcpyxc6-i"
   },
   "source": [
    "#### Select by rows. Version 2. Still by names"
   ]
  },
  {
   "cell_type": "code",
   "execution_count": null,
   "metadata": {
    "id": "jyJMlJsMc6-j"
   },
   "outputs": [],
   "source": [
    "data.loc[0,:]"
   ]
  },
  {
   "cell_type": "markdown",
   "metadata": {
    "id": "fLUsa6utc6-j"
   },
   "source": [
    "#### Select by rows and columns #1"
   ]
  },
  {
   "cell_type": "code",
   "execution_count": null,
   "metadata": {
    "id": "smoRNOUTc6-j"
   },
   "outputs": [],
   "source": [
    "data.loc[0:5,['price', 'country']]"
   ]
  },
  {
   "cell_type": "markdown",
   "metadata": {
    "id": "pF4T-Ks9c6-j"
   },
   "source": [
    "#### Select by rows and columns #2. By rows and columns indexes"
   ]
  },
  {
   "cell_type": "code",
   "execution_count": null,
   "metadata": {
    "id": "oasFJ_K5c6-j"
   },
   "outputs": [],
   "source": [
    "data.iloc[2:5, [5,7]]"
   ]
  },
  {
   "cell_type": "markdown",
   "metadata": {
    "id": "IjjSbbM4c6-j"
   },
   "source": [
    "#### Pandas problem 2\n",
    "\n",
    "Select the first line from the dataset (you have created it in the first task)"
   ]
  },
  {
   "cell_type": "code",
   "execution_count": null,
   "metadata": {
    "id": "maaO_HVrc6-j"
   },
   "outputs": [],
   "source": []
  },
  {
   "cell_type": "markdown",
   "metadata": {
    "id": "fiYRG1-5c6-k"
   },
   "source": [
    "#### Pandas problem 3\n",
    "\n",
    "Slice the data (by row indexes)"
   ]
  },
  {
   "cell_type": "code",
   "execution_count": null,
   "metadata": {
    "id": "XZK-QP-Gc6-k"
   },
   "outputs": [],
   "source": []
  },
  {
   "cell_type": "markdown",
   "metadata": {
    "id": "fzwDvWRdc6-k"
   },
   "source": [
    "### Selection with conditions\n",
    "\n",
    "So, what if I need wines over $ 15 dollars?"
   ]
  },
  {
   "cell_type": "code",
   "execution_count": null,
   "metadata": {
    "id": "TTgCRIzzc6-k"
   },
   "outputs": [],
   "source": [
    "# set a mask\n",
    "mask = data['price'] > 15"
   ]
  },
  {
   "cell_type": "code",
   "execution_count": null,
   "metadata": {
    "id": "N5_X2Bp9c6-k"
   },
   "outputs": [],
   "source": [
    "# select the required data\n",
    "\n",
    "temp = data[mask]\n",
    "temp"
   ]
  },
  {
   "cell_type": "markdown",
   "metadata": {
    "id": "f3XpV1lqc6-k"
   },
   "source": [
    "### Let's look at the data again! By plots :-) "
   ]
  },
  {
   "cell_type": "markdown",
   "metadata": {
    "id": "Nxhg2qvEc6-k"
   },
   "source": [
    "We reduce stress and do not go to get acquainted with libraries for visualization, because ...\n",
    "\n",
    "The pandas library has a drawing tool!\n",
    "\n",
    "- df.plot() - method for plotting\n",
    "\n",
    "Let's try to just call it without everything and see what happens."
   ]
  },
  {
   "cell_type": "code",
   "execution_count": null,
   "metadata": {
    "id": "uuqAs_Nwc6-k"
   },
   "outputs": [],
   "source": [
    "data.plot()"
   ]
  },
  {
   "cell_type": "markdown",
   "metadata": {
    "id": "RKh-OqUlc6-l"
   },
   "source": [
    "Satisfied? Not really."
   ]
  },
  {
   "cell_type": "code",
   "execution_count": null,
   "metadata": {
    "id": "UVwdDHXLc6-l"
   },
   "outputs": [],
   "source": [
    "data['price'].plot()"
   ]
  },
  {
   "cell_type": "code",
   "execution_count": null,
   "metadata": {
    "id": "harXBxdSc6-l",
    "scrolled": true
   },
   "outputs": [],
   "source": [
    "data['points'].plot()"
   ]
  },
  {
   "cell_type": "markdown",
   "metadata": {
    "id": "zEfae0GAc6-l"
   },
   "source": [
    "Something is gping wrong. Let's try to achieve some sensible visualization of the **points** column."
   ]
  },
  {
   "cell_type": "code",
   "execution_count": null,
   "metadata": {
    "id": "M-nxXkDHc6-l"
   },
   "outputs": [],
   "source": [
    "data['points'].value_counts().plot(kind='bar')"
   ]
  },
  {
   "cell_type": "markdown",
   "metadata": {
    "id": "jdoryfDjc6-l"
   },
   "source": [
    "What is **value_counts()**? (Without it, I do not advise you to run the code above, it will hurt)"
   ]
  },
  {
   "cell_type": "code",
   "execution_count": null,
   "metadata": {
    "id": "Owx3I1szc6-m"
   },
   "outputs": [],
   "source": [
    "data['points'].value_counts()"
   ]
  },
  {
   "cell_type": "code",
   "execution_count": null,
   "metadata": {
    "id": "dIZ6wgfec6-m"
   },
   "outputs": [],
   "source": [
    "data['points'].value_counts().plot(kind='barh')"
   ]
  },
  {
   "cell_type": "code",
   "execution_count": null,
   "metadata": {
    "id": "krZBJnboc6-m"
   },
   "outputs": [],
   "source": [
    "data['points'].value_counts().plot(kind='line')"
   ]
  },
  {
   "cell_type": "markdown",
   "metadata": {
    "id": "t5YrPpWTc6-m"
   },
   "source": [
    "Again, not very good. Because our indexes are not sorted at value_counts ()!\n",
    "\n",
    "Let's fix"
   ]
  },
  {
   "cell_type": "code",
   "execution_count": null,
   "metadata": {
    "id": "0VIxE27ac6-m"
   },
   "outputs": [],
   "source": [
    "data['points'].value_counts().sort_index().plot(kind='line')"
   ]
  },
  {
   "cell_type": "code",
   "execution_count": null,
   "metadata": {
    "id": "xhapLy8pc6-m"
   },
   "outputs": [],
   "source": [
    "data['points'].value_counts().sort_index().plot(kind='area')"
   ]
  },
  {
   "cell_type": "code",
   "execution_count": null,
   "metadata": {
    "id": "ccsuPL1Pc6-n"
   },
   "outputs": [],
   "source": [
    "data['points'].sort_index().plot(kind='hist')"
   ]
  },
  {
   "cell_type": "code",
   "execution_count": null,
   "metadata": {
    "id": "pkfpVPLBc6-n",
    "scrolled": true
   },
   "outputs": [],
   "source": [
    "data['points'].plot(kind='box')"
   ]
  },
  {
   "cell_type": "markdown",
   "metadata": {
    "id": "OOZk-lilc6-n"
   },
   "source": [
    "Okay, we are done with one-column plots. And what about several columns?"
   ]
  },
  {
   "cell_type": "code",
   "execution_count": null,
   "metadata": {
    "id": "pE6uiIjkc6-n"
   },
   "outputs": [],
   "source": [
    "data.plot(kind ='box')"
   ]
  },
  {
   "cell_type": "code",
   "execution_count": null,
   "metadata": {
    "id": "F_xjLgryc6-n"
   },
   "outputs": [],
   "source": [
    "data.plot(kind='box', subplots=True)"
   ]
  },
  {
   "cell_type": "markdown",
   "metadata": {
    "id": "VfvlRQOwc6-n"
   },
   "source": [
    "How are prices and sommelier ratings jointly distributed?"
   ]
  },
  {
   "cell_type": "code",
   "execution_count": null,
   "metadata": {
    "id": "5asmGpTic6-n",
    "scrolled": true
   },
   "outputs": [],
   "source": [
    " data.plot(x='points', y='price', kind='scatter')"
   ]
  },
  {
   "cell_type": "code",
   "execution_count": null,
   "metadata": {
    "id": "lrSsYPKac6-o"
   },
   "outputs": [],
   "source": [
    "wine_counts = pd.read_csv('dpo_1-2_top-five-wine-score-counts.csv')\n",
    "wine_counts.head(3)"
   ]
  },
  {
   "cell_type": "code",
   "execution_count": null,
   "metadata": {
    "id": "IT4lmQgac6-o"
   },
   "outputs": [],
   "source": [
    "wine_counts.plot.line(x='points')"
   ]
  },
  {
   "cell_type": "code",
   "execution_count": null,
   "metadata": {
    "id": "WhAii3HDc6-o"
   },
   "outputs": [],
   "source": [
    "wine_counts.plot.area(x='points')"
   ]
  },
  {
   "cell_type": "code",
   "execution_count": null,
   "metadata": {
    "id": "SFAhh_0Kc6-o"
   },
   "outputs": [],
   "source": [
    "wine_counts.plot.bar(x='points', stacked=True)"
   ]
  },
  {
   "cell_type": "markdown",
   "metadata": {
    "id": "W7n8y9pTc6-o"
   },
   "source": [
    "# A bit more Visualization or Intro to matplotlib"
   ]
  },
  {
   "cell_type": "code",
   "execution_count": null,
   "metadata": {
    "id": "iRQxzSi3c6-o"
   },
   "outputs": [],
   "source": [
    "import matplotlib.pyplot as plt\n",
    "%matplotlib inline"
   ]
  },
  {
   "cell_type": "markdown",
   "metadata": {
    "id": "2FakOWfbc6-o"
   },
   "source": [
    "Drawing the plot \"by default\":"
   ]
  },
  {
   "cell_type": "code",
   "execution_count": null,
   "metadata": {
    "id": "yix7XpC6c6-p"
   },
   "outputs": [],
   "source": [
    "# create some synthetic data\n",
    "import numpy as np\n",
    "x = np.linspace(0,15,100)\n",
    "# make a default plot\n",
    "plt.plot(x)"
   ]
  },
  {
   "cell_type": "code",
   "execution_count": null,
   "metadata": {
    "id": "35fW2inbc6-p"
   },
   "outputs": [],
   "source": [
    "# default plot #2\n",
    "y = np.cos(x)\n",
    "plt.plot(y)"
   ]
  },
  {
   "cell_type": "markdown",
   "metadata": {
    "id": "TcOPQwMRc6-p"
   },
   "source": [
    "Whats wrong with the plot above?\n",
    "\n",
    "* missing axes labels\n",
    "* no plot title\n",
    "\n",
    "Let's fix this:"
   ]
  },
  {
   "cell_type": "code",
   "execution_count": null,
   "metadata": {
    "id": "8-na6B-Rc6-p"
   },
   "outputs": [],
   "source": [
    "plt.plot(x, y)\n",
    "plt.title('cos(x)')\n",
    "plt.xlabel('х')\n",
    "plt.ylabel('y')\n",
    "plt.show()"
   ]
  },
  {
   "cell_type": "markdown",
   "metadata": {
    "id": "kY34Ddhgc6-p"
   },
   "source": [
    "Add labels to the plot:"
   ]
  },
  {
   "cell_type": "code",
   "execution_count": null,
   "metadata": {
    "id": "oDixX-Omc6-p"
   },
   "outputs": [],
   "source": [
    "z = 0.5 * np.sin(x)\n",
    "\n",
    "# make a plot\n",
    "plt.plot(x, y, label='cos(x)')\n",
    "plt.plot(x, z, label='sin(x)')\n",
    "plt.title('0.5 sin(x) и cos(x)')\n",
    "plt.xlabel('х')\n",
    "plt.ylabel('y, z')\n",
    "plt.legend()\n",
    "plt.show()"
   ]
  },
  {
   "cell_type": "markdown",
   "metadata": {
    "id": "OGSuDUNlc6-q"
   },
   "source": [
    "Anyway something is going wrong! what?\n",
    "\n",
    "Lets change the size of the plot:"
   ]
  },
  {
   "cell_type": "code",
   "execution_count": null,
   "metadata": {
    "id": "Hknq-XeOc6-q"
   },
   "outputs": [],
   "source": [
    "# make a plot\n",
    "plt.figure(figsize=(8,4))\n",
    "plt.plot(x, y, label='cos(x)')\n",
    "plt.plot(x, z, label='sin(x)')\n",
    "plt.title('0.5 sin(x) и cos(x)')\n",
    "plt.xlabel('х')\n",
    "plt.ylabel('y, z')\n",
    "plt.legend()\n",
    "plt.show()"
   ]
  },
  {
   "cell_type": "markdown",
   "metadata": {
    "id": "HI2ki_FKc6-q"
   },
   "source": [
    "How to change colors?"
   ]
  },
  {
   "cell_type": "code",
   "execution_count": null,
   "metadata": {
    "id": "EdGKoptSc6-q"
   },
   "outputs": [],
   "source": [
    "# make a plot\n",
    "plt.figure(figsize=(15,6))\n",
    "plt.plot(x, y, label='cos(x)', c='g')\n",
    "plt.plot(x, z, label='sin(x)', c='r')\n",
    "plt.title('0.5 sin(x) и cos(x)')\n",
    "plt.xlabel('х')\n",
    "plt.ylabel('y, z')\n",
    "plt.legend()\n",
    "plt.show()"
   ]
  },
  {
   "cell_type": "markdown",
   "metadata": {
    "id": "vmfYQuTMc6-q"
   },
   "source": [
    "Multiple plots in the same axes"
   ]
  },
  {
   "cell_type": "code",
   "execution_count": null,
   "metadata": {
    "id": "fMMyu7eKc6-q"
   },
   "outputs": [],
   "source": [
    "plt.figure(1, figsize=(10,5))\n",
    "\n",
    "plt.subplot(211)\n",
    "plt.title('Two plots with joint x axis')\n",
    "plt.plot(x, y, 'b-.', label='cos(x)')\n",
    "plt.legend()\n",
    "\n",
    "plt.subplot(212)\n",
    "plt.plot(x, z, 'r--', label='0.5 sin(x)')\n",
    "plt.xlabel('Joint axis х')\n",
    "plt.legend()\n",
    "\n",
    "plt.show()"
   ]
  },
  {
   "cell_type": "markdown",
   "metadata": {
    "id": "M44JanI2c6-r"
   },
   "source": [
    "### Bar plot\n",
    "\n",
    "More code examples:\n",
    "https://matplotlib.org/api/_as_gen/matplotlib.pyplot.bar.html#matplotlib.pyplot.bar"
   ]
  },
  {
   "cell_type": "code",
   "execution_count": null,
   "metadata": {
    "id": "fZZYxpeKc6-r"
   },
   "outputs": [],
   "source": [
    "x = np.arange(5)\n",
    "height = [20, 23, 25, 24, 26]\n",
    "\n",
    "plt.bar(x, height, align='center', color='c', linewidth = 100)\n",
    "\n",
    "plt.title('Monthly Sales of Х')\n",
    "\n",
    "plt.ylabel('mln USD')\n",
    "plt.xticks(x, ('January', 'February', 'March', 'April', 'May'))\n",
    "\n",
    "plt.show()"
   ]
  },
  {
   "cell_type": "markdown",
   "metadata": {
    "id": "QpRKA02Hc6-r"
   },
   "source": [
    "### Histogram\n",
    "\n",
    "More code examples:\n",
    "\n",
    "https://matplotlib.org/api/_as_gen/matplotlib.pyplot.hist.html"
   ]
  },
  {
   "cell_type": "code",
   "execution_count": null,
   "metadata": {
    "id": "MuSm9EzKc6-r"
   },
   "outputs": [],
   "source": [
    "np.random.seed(42)\n",
    "x = np.random.normal(0, 1, 100000)\n",
    "\n",
    "\n",
    "plt.hist(x, bins=10)\n",
    "plt.title('Distribution of values in the X array')\n",
    "plt.show()"
   ]
  },
  {
   "cell_type": "code",
   "execution_count": null,
   "metadata": {
    "id": "BVeKUfSLc6-r"
   },
   "outputs": [],
   "source": []
  }
 ],
 "metadata": {
  "colab": {
   "name": "Seminar_00_HSE_PE_Intro_to_Python_3_09.ipynb",
   "provenance": []
  },
  "kernelspec": {
   "display_name": "Python 3 (ipykernel)",
   "language": "python",
   "name": "python3"
  },
  "language_info": {
   "codemirror_mode": {
    "name": "ipython",
    "version": 3
   },
   "file_extension": ".py",
   "mimetype": "text/x-python",
   "name": "python",
   "nbconvert_exporter": "python",
   "pygments_lexer": "ipython3",
   "version": "3.9.5"
  }
 },
 "nbformat": 4,
 "nbformat_minor": 4
}
